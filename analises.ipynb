{
 "cells": [
  {
   "cell_type": "code",
   "execution_count": 17,
   "metadata": {},
   "outputs": [],
   "source": [
    "# mude pelo caminho onde se encontram os csv\n",
    "folder_path = '/Users/carolinabarcellos/saidas/'"
   ]
  },
  {
   "cell_type": "code",
   "execution_count": 10,
   "metadata": {},
   "outputs": [
    {
     "name": "stdout",
     "output_type": "stream",
     "text": [
      "Collecting pandas\n",
      "  Downloading pandas-2.3.0-cp311-cp311-macosx_11_0_arm64.whl (10.8 MB)\n",
      "\u001b[2K     \u001b[90m━━━━━━━━━━━━━━━━━━━━━━━━━━━━━━━━━━━━━━━━\u001b[0m \u001b[32m10.8/10.8 MB\u001b[0m \u001b[31m3.2 MB/s\u001b[0m eta \u001b[36m0:00:00\u001b[0m00:01\u001b[0m00:01\u001b[0m\n",
      "\u001b[?25hRequirement already satisfied: numpy>=1.23.2 in /Library/Frameworks/Python.framework/Versions/3.11/lib/python3.11/site-packages (from pandas) (2.2.4)\n",
      "Requirement already satisfied: python-dateutil>=2.8.2 in /Users/carolinabarcellos/Library/Python/3.11/lib/python/site-packages (from pandas) (2.9.0.post0)\n",
      "\u001b[33mWARNING: Retrying (Retry(total=4, connect=None, read=None, redirect=None, status=None)) after connection broken by 'ReadTimeoutError(\"HTTPSConnectionPool(host='pypi.org', port=443): Read timed out. (read timeout=15)\")': /simple/pytz/\u001b[0m\u001b[33m\n",
      "\u001b[0mCollecting pytz>=2020.1\n",
      "  Downloading pytz-2025.2-py2.py3-none-any.whl (509 kB)\n",
      "\u001b[2K     \u001b[90m━━━━━━━━━━━━━━━━━━━━━━━━━━━━━━━━━━━━━━━\u001b[0m \u001b[32m509.2/509.2 kB\u001b[0m \u001b[31m4.3 MB/s\u001b[0m eta \u001b[36m0:00:00\u001b[0m00:01\u001b[0m00:01\u001b[0m\n",
      "\u001b[?25hCollecting tzdata>=2022.7\n",
      "  Downloading tzdata-2025.2-py2.py3-none-any.whl (347 kB)\n",
      "\u001b[2K     \u001b[90m━━━━━━━━━━━━━━━━━━━━━━━━━━━━━━━━━━━━━━━\u001b[0m \u001b[32m347.8/347.8 kB\u001b[0m \u001b[31m3.4 MB/s\u001b[0m eta \u001b[36m0:00:00\u001b[0ma \u001b[36m0:00:01\u001b[0m\n",
      "\u001b[?25hRequirement already satisfied: six>=1.5 in /Users/carolinabarcellos/Library/Python/3.11/lib/python/site-packages (from python-dateutil>=2.8.2->pandas) (1.17.0)\n",
      "Installing collected packages: pytz, tzdata, pandas\n",
      "Successfully installed pandas-2.3.0 pytz-2025.2 tzdata-2025.2\n",
      "\n",
      "\u001b[1m[\u001b[0m\u001b[34;49mnotice\u001b[0m\u001b[1;39;49m]\u001b[0m\u001b[39;49m A new release of pip available: \u001b[0m\u001b[31;49m22.3\u001b[0m\u001b[39;49m -> \u001b[0m\u001b[32;49m25.1.1\u001b[0m\n",
      "\u001b[1m[\u001b[0m\u001b[34;49mnotice\u001b[0m\u001b[1;39;49m]\u001b[0m\u001b[39;49m To update, run: \u001b[0m\u001b[32;49mpip3 install --upgrade pip\u001b[0m\n",
      "Note: you may need to restart the kernel to use updated packages.\n"
     ]
    }
   ],
   "source": [
    "%pip install pandas"
   ]
  },
  {
   "cell_type": "code",
   "execution_count": 13,
   "metadata": {},
   "outputs": [],
   "source": [
    "import pandas as pd"
   ]
  },
  {
   "cell_type": "code",
   "execution_count": 19,
   "metadata": {},
   "outputs": [],
   "source": [
    "df_nulos_salas = pd.read_csv(folder_path + 'quantidade_nulos_sala.csv')\n",
    "df_nulos_complexo = pd.read_csv(folder_path + 'quantidade_nulos_complexo.csv')"
   ]
  },
  {
   "cell_type": "code",
   "execution_count": 23,
   "metadata": {},
   "outputs": [
    {
     "name": "stdout",
     "output_type": "stream",
     "text": [
      "Collecting matplotlib\n",
      "  Downloading matplotlib-3.10.3-cp311-cp311-macosx_11_0_arm64.whl (8.1 MB)\n",
      "\u001b[2K     \u001b[90m━━━━━━━━━━━━━━━━━━━━━━━━━━━━━━━━━━━━━━━━\u001b[0m \u001b[32m8.1/8.1 MB\u001b[0m \u001b[31m2.8 MB/s\u001b[0m eta \u001b[36m0:00:00\u001b[0m00:01\u001b[0m00:01\u001b[0m\n",
      "\u001b[?25hCollecting contourpy>=1.0.1\n",
      "  Downloading contourpy-1.3.2-cp311-cp311-macosx_11_0_arm64.whl (254 kB)\n",
      "\u001b[2K     \u001b[90m━━━━━━━━━━━━━━━━━━━━━━━━━━━━━━━━━━━━━━━\u001b[0m \u001b[32m254.6/254.6 kB\u001b[0m \u001b[31m2.1 MB/s\u001b[0m eta \u001b[36m0:00:00\u001b[0ma \u001b[36m0:00:01\u001b[0m\n",
      "\u001b[?25hCollecting cycler>=0.10\n",
      "  Downloading cycler-0.12.1-py3-none-any.whl (8.3 kB)\n",
      "Collecting fonttools>=4.22.0\n",
      "  Downloading fonttools-4.58.4-cp311-cp311-macosx_10_9_universal2.whl (2.8 MB)\n",
      "\u001b[2K     \u001b[90m━━━━━━━━━━━━━━━━━━━━━━━━━━━━━━━━━━━━━━━━\u001b[0m \u001b[32m2.8/2.8 MB\u001b[0m \u001b[31m2.6 MB/s\u001b[0m eta \u001b[36m0:00:00\u001b[0m00:01\u001b[0m00:01\u001b[0m\n",
      "\u001b[?25hCollecting kiwisolver>=1.3.1\n",
      "  Downloading kiwisolver-1.4.8-cp311-cp311-macosx_11_0_arm64.whl (65 kB)\n",
      "\u001b[2K     \u001b[90m━━━━━━━━━━━━━━━━━━━━━━━━━━━━━━━━━━━━━━━━\u001b[0m \u001b[32m65.4/65.4 kB\u001b[0m \u001b[31m1.3 MB/s\u001b[0m eta \u001b[36m0:00:00\u001b[0ma \u001b[36m0:00:01\u001b[0m\n",
      "\u001b[?25hRequirement already satisfied: numpy>=1.23 in /Library/Frameworks/Python.framework/Versions/3.11/lib/python3.11/site-packages (from matplotlib) (2.2.4)\n",
      "Requirement already satisfied: packaging>=20.0 in /Users/carolinabarcellos/Library/Python/3.11/lib/python/site-packages (from matplotlib) (25.0)\n",
      "Collecting pillow>=8\n",
      "  Downloading pillow-11.2.1-cp311-cp311-macosx_11_0_arm64.whl (3.0 MB)\n",
      "\u001b[2K     \u001b[90m━━━━━━━━━━━━━━━━━━━━━━━━━━━━━━━━━━━━━━━━\u001b[0m \u001b[32m3.0/3.0 MB\u001b[0m \u001b[31m2.6 MB/s\u001b[0m eta \u001b[36m0:00:00\u001b[0m00:01\u001b[0m00:01\u001b[0m\n",
      "\u001b[?25hCollecting pyparsing>=2.3.1\n",
      "  Downloading pyparsing-3.2.3-py3-none-any.whl (111 kB)\n",
      "\u001b[2K     \u001b[90m━━━━━━━━━━━━━━━━━━━━━━━━━━━━━━━━━━━━━━━\u001b[0m \u001b[32m111.1/111.1 kB\u001b[0m \u001b[31m1.3 MB/s\u001b[0m eta \u001b[36m0:00:00\u001b[0ma \u001b[36m0:00:01\u001b[0m\n",
      "\u001b[?25hRequirement already satisfied: python-dateutil>=2.7 in /Users/carolinabarcellos/Library/Python/3.11/lib/python/site-packages (from matplotlib) (2.9.0.post0)\n",
      "Requirement already satisfied: six>=1.5 in /Users/carolinabarcellos/Library/Python/3.11/lib/python/site-packages (from python-dateutil>=2.7->matplotlib) (1.17.0)\n",
      "Installing collected packages: pyparsing, pillow, kiwisolver, fonttools, cycler, contourpy, matplotlib\n",
      "Successfully installed contourpy-1.3.2 cycler-0.12.1 fonttools-4.58.4 kiwisolver-1.4.8 matplotlib-3.10.3 pillow-11.2.1 pyparsing-3.2.3\n",
      "\n",
      "\u001b[1m[\u001b[0m\u001b[34;49mnotice\u001b[0m\u001b[1;39;49m]\u001b[0m\u001b[39;49m A new release of pip available: \u001b[0m\u001b[31;49m22.3\u001b[0m\u001b[39;49m -> \u001b[0m\u001b[32;49m25.1.1\u001b[0m\n",
      "\u001b[1m[\u001b[0m\u001b[34;49mnotice\u001b[0m\u001b[1;39;49m]\u001b[0m\u001b[39;49m To update, run: \u001b[0m\u001b[32;49mpip3 install --upgrade pip\u001b[0m\n",
      "Note: you may need to restart the kernel to use updated packages.\n"
     ]
    }
   ],
   "source": [
    "%pip install matplotlib"
   ]
  },
  {
   "cell_type": "code",
   "execution_count": 24,
   "metadata": {},
   "outputs": [
    {
     "name": "stderr",
     "output_type": "stream",
     "text": [
      "Matplotlib is building the font cache; this may take a moment.\n"
     ]
    }
   ],
   "source": [
    "import matplotlib.pyplot as plt"
   ]
  },
  {
   "cell_type": "code",
   "execution_count": 45,
   "metadata": {},
   "outputs": [],
   "source": [
    "df_nulos_filmes = pd.read_csv(folder_path + 'quantidade_nulos.csv')"
   ]
  },
  {
   "cell_type": "code",
   "execution_count": 41,
   "metadata": {},
   "outputs": [
    {
     "data": {
      "text/plain": [
       "<Axes: title={'center': 'Quantidade de valores nulos por coluna em complexo'}, ylabel='coluna'>"
      ]
     },
     "execution_count": 41,
     "metadata": {},
     "output_type": "execute_result"
    },
    {
     "data": {
      "image/png": "[encoded data removed]",
      "text/plain": [
       "<Figure size 800x500 with 1 Axes>"
      ]
     },
     "metadata": {},
     "output_type": "display_data"
    }
   ],
   "source": [
    "df_nulos_complexo.plot(\n",
    "    kind='barh',\n",
    "    x='coluna',\n",
    "    y='quantidade_nulos',\n",
    "    color='lightgreen',\n",
    "    figsize=(8, 5),\n",
    "    title='Quantidade de valores nulos por coluna em complexo',\n",
    ")\n"
   ]
  },
  {
   "cell_type": "code",
   "execution_count": 42,
   "metadata": {},
   "outputs": [
    {
     "data": {
      "text/plain": [
       "<Axes: title={'center': 'Quantidade de valores nulos por coluna em sala'}, ylabel='coluna'>"
      ]
     },
     "execution_count": 42,
     "metadata": {},
     "output_type": "execute_result"
    },
    {
     "data": {
      "image/png": "[encoded data removed]",
      "text/plain": [
       "<Figure size 800x500 with 1 Axes>"
      ]
     },
     "metadata": {},
     "output_type": "display_data"
    }
   ],
   "source": [
    "df_nulos_salas.plot(\n",
    "    kind='barh',\n",
    "    x='coluna',\n",
    "    y='quantidade_nulos',\n",
    "    color='lightgreen',\n",
    "    title='Quantidade de valores nulos por coluna em sala',\n",
    "    figsize=(8, 5)\n",
    ")\n"
   ]
  },
  {
   "cell_type": "code",
   "execution_count": 35,
   "metadata": {},
   "outputs": [],
   "source": [
    "df_nulos_exibidor = pd.read_csv(folder_path + 'quantidade_nulos_exibidor.csv')\n",
    "df_nulos_grupo_exibidor = pd.read_csv(folder_path + 'quantidade_nulos_grupo_exibidor.csv')\n",
    "df_nulos_distribuidora = pd.read_csv(folder_path + 'quantidade_nulos_distribuidora.csv')\n",
    "df_nulos_protocolo = pd.read_csv(folder_path + 'quantidade_nulos_protocolo.csv')\n",
    "df_nulos_secao = pd.read_csv(folder_path + 'quantidade_nulos_secao.csv')"
   ]
  },
  {
   "cell_type": "code",
   "execution_count": 44,
   "metadata": {},
   "outputs": [
    {
     "data": {
      "text/plain": [
       "<Axes: title={'center': 'Quantidade de valores nulos por coluna em exibidor'}, ylabel='coluna'>"
      ]
     },
     "execution_count": 44,
     "metadata": {},
     "output_type": "execute_result"
    },
    {
     "data": {
      "image/png": "[encoded data removed]",
      "text/plain": [
       "<Figure size 800x500 with 1 Axes>"
      ]
     },
     "metadata": {},
     "output_type": "display_data"
    }
   ],
   "source": [
    "df_nulos_exibidor.plot(\n",
    "    kind='barh',\n",
    "    x='coluna',\n",
    "    y='quantidade_nulos',\n",
    "    color='lightgreen',\n",
    "    title='Quantidade de valores nulos por coluna em exibidor',\n",
    "    figsize=(8, 5)\n",
    ")\n"
   ]
  },
  {
   "cell_type": "code",
   "execution_count": 52,
   "metadata": {},
   "outputs": [
    {
     "data": {
      "text/plain": [
       "<Axes: title={'center': 'Quantidade de valores nulos por coluna em filme'}, ylabel='coluna'>"
      ]
     },
     "execution_count": 52,
     "metadata": {},
     "output_type": "execute_result"
    },
    {
     "data": {
      "image/png": "[encoded data removed]",
      "text/plain": [
       "<Figure size 800x500 with 1 Axes>"
      ]
     },
     "metadata": {},
     "output_type": "display_data"
    }
   ],
   "source": [
    "df_nulos_filmes=df_nulos_filmes.sort_values(by ='quantidade_nulos', ascending=False)\n",
    "df_nulos_filmes.plot(\n",
    "    kind='barh',\n",
    "    x='coluna',\n",
    "    y='quantidade_nulos',\n",
    "    color='lightgreen',\n",
    "    title='Quantidade de valores nulos por coluna em filme',\n",
    "    figsize=(8, 5)\n",
    ")"
   ]
  },
  {
   "cell_type": "markdown",
   "metadata": {},
   "source": [
    "Identificando Outliers"
   ]
  },
  {
   "cell_type": "code",
   "execution_count": 53,
   "metadata": {},
   "outputs": [],
   "source": [
    "df_salas_assentos = pd.read_csv(folder_path + 'sala_assentos.csv')"
   ]
  },
  {
   "cell_type": "code",
   "execution_count": 57,
   "metadata": {},
   "outputs": [
    {
     "data": {
      "text/plain": [
       "np.float64(190.59049773755657)"
      ]
     },
     "execution_count": 57,
     "metadata": {},
     "output_type": "execute_result"
    }
   ],
   "source": [
    "media_assentos_sala=df_salas_assentos.get('assentos_sala').mean()\n",
    "media_assentos_sala"
   ]
  },
  {
   "cell_type": "code",
   "execution_count": 266,
   "metadata": {},
   "outputs": [],
   "source": [
    "# Calcular os quartis e IQR\n",
    "q1 = df_salas_assentos['assentos_sala'].quantile(0.25)\n",
    "q3 = df_salas_assentos['assentos_sala'].quantile(0.75)\n",
    "iqr = q3 - q1\n",
    "\n",
    "# Definir o fator (ajuste conforme desejar)\n",
    "fator = 8\n",
    "\n",
    "# Calcular os limites\n",
    "limite_inferior = q1 - fator * iqr\n",
    "limite_superior = q3 + fator * iqr\n",
    "\n",
    "# Criar a coluna indicando se é outlier\n",
    "df_salas_assentos['outlier'] = (\n",
    "    (df_salas_assentos['assentos_sala'] < limite_inferior) |\n",
    "    (df_salas_assentos['assentos_sala'] > limite_superior)\n",
    ")\n",
    "\n",
    "# Criar um dataframe só com os outliers\n",
    "df_outliers_salas = df_salas_assentos[df_salas_assentos['outlier']].copy()\n",
    "\n",
    "# Visualizar\n",
    "df_outliers_salas=df_outliers_salas.drop(columns='outlier')\n",
    "\n"
   ]
  },
  {
   "cell_type": "code",
   "execution_count": 181,
   "metadata": {},
   "outputs": [
    {
     "name": "stdout",
     "output_type": "stream",
     "text": [
      "Collecting jinja2\n",
      "  Downloading jinja2-3.1.6-py3-none-any.whl (134 kB)\n",
      "\u001b[2K     \u001b[90m━━━━━━━━━━━━━━━━━━━━━━━━━━━━━━━━━━━━━━━\u001b[0m \u001b[32m134.9/134.9 kB\u001b[0m \u001b[31m1.1 MB/s\u001b[0m eta \u001b[36m0:00:00\u001b[0m00:01\u001b[0m00:01\u001b[0m\n",
      "\u001b[?25hCollecting MarkupSafe>=2.0\n",
      "  Downloading MarkupSafe-3.0.2-cp311-cp311-macosx_11_0_arm64.whl (12 kB)\n",
      "Installing collected packages: MarkupSafe, jinja2\n",
      "Successfully installed MarkupSafe-3.0.2 jinja2-3.1.6\n",
      "\n",
      "\u001b[1m[\u001b[0m\u001b[34;49mnotice\u001b[0m\u001b[1;39;49m]\u001b[0m\u001b[39;49m A new release of pip available: \u001b[0m\u001b[31;49m22.3\u001b[0m\u001b[39;49m -> \u001b[0m\u001b[32;49m25.1.1\u001b[0m\n",
      "\u001b[1m[\u001b[0m\u001b[34;49mnotice\u001b[0m\u001b[1;39;49m]\u001b[0m\u001b[39;49m To update, run: \u001b[0m\u001b[32;49mpip3 install --upgrade pip\u001b[0m\n",
      "Note: you may need to restart the kernel to use updated packages.\n"
     ]
    }
   ],
   "source": [
    "%pip install jinja2"
   ]
  },
  {
   "cell_type": "code",
   "execution_count": 267,
   "metadata": {},
   "outputs": [
    {
     "data": {
      "text/html": [
       "<style type=\"text/css\">\n",
       "#T_ec692 caption {\n",
       "  color: black;\n",
       "  font-size: 16px;\n",
       "  text-align: center;\n",
       "  background-color: white;\n",
       "}\n",
       "#T_ec692 th {\n",
       "  background-color: white;\n",
       "  color: black;\n",
       "  border: 1px solid black;\n",
       "  text-align: left;\n",
       "}\n",
       "#T_ec692  td {\n",
       "  background-color: white;\n",
       "  color: black;\n",
       "  border: 1px solid black;\n",
       "  text-align: left;\n",
       "}\n",
       "#T_ec692_row0_col0, #T_ec692_row0_col1, #T_ec692_row1_col0, #T_ec692_row1_col1, #T_ec692_row2_col0, #T_ec692_row2_col1, #T_ec692_row3_col0, #T_ec692_row3_col1, #T_ec692_row4_col0, #T_ec692_row4_col1, #T_ec692_row5_col0, #T_ec692_row5_col1, #T_ec692_row6_col0, #T_ec692_row6_col1, #T_ec692_row7_col0, #T_ec692_row7_col1, #T_ec692_row8_col0, #T_ec692_row8_col1, #T_ec692_row9_col0, #T_ec692_row9_col1, #T_ec692_row10_col0, #T_ec692_row10_col1, #T_ec692_row11_col0, #T_ec692_row11_col1 {\n",
       "  background-color: white;\n",
       "  color: black;\n",
       "}\n",
       "</style>\n",
       "<table id=\"T_ec692\">\n",
       "  <caption>Outliers - Quantidade de Assentos por Sala</caption>\n",
       "  <thead>\n",
       "    <tr>\n",
       "      <th class=\"blank level0\" >&nbsp;</th>\n",
       "      <th id=\"T_ec692_level0_col0\" class=\"col_heading level0 col0\" >nome_sala</th>\n",
       "      <th id=\"T_ec692_level0_col1\" class=\"col_heading level0 col1\" >assentos_sala</th>\n",
       "    </tr>\n",
       "  </thead>\n",
       "  <tbody>\n",
       "    <tr>\n",
       "      <th id=\"T_ec692_level0_row0\" class=\"row_heading level0 row0\" >0</th>\n",
       "      <td id=\"T_ec692_row0_col0\" class=\"data row0 col0\" >SUPER CINE ESPAÇO DAS AMÉRICAS DRIVE IN</td>\n",
       "      <td id=\"T_ec692_row0_col1\" class=\"data row0 col1\" >3000</td>\n",
       "    </tr>\n",
       "    <tr>\n",
       "      <th id=\"T_ec692_level0_row1\" class=\"row_heading level0 row1\" >1</th>\n",
       "      <td id=\"T_ec692_row1_col0\" class=\"data row1 col0\" >CINE DRIVEIN</td>\n",
       "      <td id=\"T_ec692_row1_col1\" class=\"data row1 col1\" >2000</td>\n",
       "    </tr>\n",
       "    <tr>\n",
       "      <th id=\"T_ec692_level0_row2\" class=\"row_heading level0 row2\" >2</th>\n",
       "      <td id=\"T_ec692_row2_col0\" class=\"data row2 col0\" >SÃO LEO BOURBON 01</td>\n",
       "      <td id=\"T_ec692_row2_col1\" class=\"data row2 col1\" >1693</td>\n",
       "    </tr>\n",
       "    <tr>\n",
       "      <th id=\"T_ec692_level0_row3\" class=\"row_heading level0 row3\" >3</th>\n",
       "      <td id=\"T_ec692_row3_col0\" class=\"data row3 col0\" >CINE 9 DE ABRIL</td>\n",
       "      <td id=\"T_ec692_row3_col1\" class=\"data row3 col1\" >1535</td>\n",
       "    </tr>\n",
       "    <tr>\n",
       "      <th id=\"T_ec692_level0_row4\" class=\"row_heading level0 row4\" >4</th>\n",
       "      <td id=\"T_ec692_row4_col0\" class=\"data row4 col0\" >SÃO LUIZ</td>\n",
       "      <td id=\"T_ec692_row4_col1\" class=\"data row4 col1\" >1219</td>\n",
       "    </tr>\n",
       "    <tr>\n",
       "      <th id=\"T_ec692_level0_row5\" class=\"row_heading level0 row5\" >5</th>\n",
       "      <td id=\"T_ec692_row5_col0\" class=\"data row5 col0\" >CENTRO CULTURAL SESC LUIZ SEVERIANO RIBEIRO</td>\n",
       "      <td id=\"T_ec692_row5_col1\" class=\"data row5 col1\" >1200</td>\n",
       "    </tr>\n",
       "    <tr>\n",
       "      <th id=\"T_ec692_level0_row6\" class=\"row_heading level0 row6\" >6</th>\n",
       "      <td id=\"T_ec692_row6_col0\" class=\"data row6 col0\" >SÃO LUIZ</td>\n",
       "      <td id=\"T_ec692_row6_col1\" class=\"data row6 col1\" >1181</td>\n",
       "    </tr>\n",
       "    <tr>\n",
       "      <th id=\"T_ec692_level0_row7\" class=\"row_heading level0 row7\" >7</th>\n",
       "      <td id=\"T_ec692_row7_col0\" class=\"data row7 col0\" >CINE ALVORADA</td>\n",
       "      <td id=\"T_ec692_row7_col1\" class=\"data row7 col1\" >1180</td>\n",
       "    </tr>\n",
       "    <tr>\n",
       "      <th id=\"T_ec692_level0_row8\" class=\"row_heading level0 row8\" >8</th>\n",
       "      <td id=\"T_ec692_row8_col0\" class=\"data row8 col0\" >CINETEATRO SÃO LUIZ</td>\n",
       "      <td id=\"T_ec692_row8_col1\" class=\"data row8 col1\" >1050</td>\n",
       "    </tr>\n",
       "    <tr>\n",
       "      <th id=\"T_ec692_level0_row9\" class=\"row_heading level0 row9\" >9</th>\n",
       "      <td id=\"T_ec692_row9_col0\" class=\"data row9 col0\" >IPIRANGA I</td>\n",
       "      <td id=\"T_ec692_row9_col1\" class=\"data row9 col1\" >1030</td>\n",
       "    </tr>\n",
       "    <tr>\n",
       "      <th id=\"T_ec692_level0_row10\" class=\"row_heading level0 row10\" >10</th>\n",
       "      <td id=\"T_ec692_row10_col0\" class=\"data row10 col0\" >CINE MARROCOS</td>\n",
       "      <td id=\"T_ec692_row10_col1\" class=\"data row10 col1\" >1012</td>\n",
       "    </tr>\n",
       "    <tr>\n",
       "      <th id=\"T_ec692_level0_row11\" class=\"row_heading level0 row11\" >11</th>\n",
       "      <td id=\"T_ec692_row11_col0\" class=\"data row11 col0\" >ARCOIRIS MARROCOS</td>\n",
       "      <td id=\"T_ec692_row11_col1\" class=\"data row11 col1\" >1012</td>\n",
       "    </tr>\n",
       "  </tbody>\n",
       "</table>\n"
      ],
      "text/plain": [
       "<pandas.io.formats.style.Styler at 0x16af03090>"
      ]
     },
     "execution_count": 267,
     "metadata": {},
     "output_type": "execute_result"
    }
   ],
   "source": [
    "df_outliers_salas.style.set_caption(\"Outliers - Quantidade de Assentos por Sala\")\\\n",
    "    .set_table_styles([\n",
    "        {'selector': 'caption',\n",
    "         'props': [('color', 'black'),\n",
    "                   ('font-size', '16px'),\n",
    "                   ('text-align', 'center'),\n",
    "                   ('background-color', 'white')]},\n",
    "        {'selector': 'th, td',\n",
    "         'props': [('background-color', 'white'),\n",
    "                   ('color', 'black'),\n",
    "                   ('border', '1px solid black'),\n",
    "                   ('text-align', 'left')]}\n",
    "    ])\\\n",
    "    .set_properties(**{'background-color': 'white', 'color': 'black'})\n"
   ]
  },
  {
   "cell_type": "code",
   "execution_count": 66,
   "metadata": {},
   "outputs": [],
   "source": [
    "df_complexos_uf = pd.read_csv(folder_path + 'complexos_por_uf.csv')"
   ]
  },
  {
   "cell_type": "code",
   "execution_count": 268,
   "metadata": {},
   "outputs": [],
   "source": [
    "# Calcular os quartis e IQR\n",
    "q1 = df_complexos_uf['count'].quantile(0.25)\n",
    "q3 = df_complexos_uf['count'].quantile(0.75)\n",
    "iqr = q3 - q1\n",
    "\n",
    "# Definir o fator (ajuste conforme desejar)\n",
    "fator = 1.5\n",
    "\n",
    "# Calcular os limites\n",
    "limite_inferior = q1 - fator * iqr\n",
    "limite_superior = q3 + fator * iqr\n",
    "\n",
    "# Criar a coluna indicando se é outlier\n",
    "df_complexos_uf['outlier'] = (\n",
    "    (df_complexos_uf['count'] < limite_inferior) |\n",
    "    (df_complexos_uf['count'] > limite_superior)\n",
    ")\n",
    "\n",
    "# Criar um dataframe só com os outliers\n",
    "df_outliers_complexos_uf = df_complexos_uf[df_complexos_uf['outlier']].copy()\n",
    "\n",
    "# Visualizar\n",
    "df_outliers_complexos_uf=df_outliers_complexos_uf.drop(columns='outlier')\n",
    "\n"
   ]
  },
  {
   "cell_type": "code",
   "execution_count": 269,
   "metadata": {},
   "outputs": [
    {
     "data": {
      "text/html": [
       "<style type=\"text/css\">\n",
       "#T_31575 caption {\n",
       "  color: black;\n",
       "  font-size: 16px;\n",
       "  text-align: center;\n",
       "  background-color: white;\n",
       "}\n",
       "#T_31575 th {\n",
       "  background-color: white;\n",
       "  color: black;\n",
       "  border: 1px solid black;\n",
       "  text-align: left;\n",
       "}\n",
       "#T_31575  td {\n",
       "  background-color: white;\n",
       "  color: black;\n",
       "  border: 1px solid black;\n",
       "  text-align: left;\n",
       "}\n",
       "#T_31575_row0_col0, #T_31575_row0_col1, #T_31575_row1_col0, #T_31575_row1_col1, #T_31575_row2_col0, #T_31575_row2_col1 {\n",
       "  background-color: white;\n",
       "  color: black;\n",
       "}\n",
       "</style>\n",
       "<table id=\"T_31575\">\n",
       "  <caption>Outliers - Quantidade de Complexos por UF</caption>\n",
       "  <thead>\n",
       "    <tr>\n",
       "      <th class=\"blank level0\" >&nbsp;</th>\n",
       "      <th id=\"T_31575_level0_col0\" class=\"col_heading level0 col0\" >uf_complexo</th>\n",
       "      <th id=\"T_31575_level0_col1\" class=\"col_heading level0 col1\" >count</th>\n",
       "    </tr>\n",
       "  </thead>\n",
       "  <tbody>\n",
       "    <tr>\n",
       "      <th id=\"T_31575_level0_row0\" class=\"row_heading level0 row0\" >0</th>\n",
       "      <td id=\"T_31575_row0_col0\" class=\"data row0 col0\" >SP</td>\n",
       "      <td id=\"T_31575_row0_col1\" class=\"data row0 col1\" >529</td>\n",
       "    </tr>\n",
       "    <tr>\n",
       "      <th id=\"T_31575_level0_row1\" class=\"row_heading level0 row1\" >1</th>\n",
       "      <td id=\"T_31575_row1_col0\" class=\"data row1 col0\" >RJ</td>\n",
       "      <td id=\"T_31575_row1_col1\" class=\"data row1 col1\" >216</td>\n",
       "    </tr>\n",
       "    <tr>\n",
       "      <th id=\"T_31575_level0_row2\" class=\"row_heading level0 row2\" >2</th>\n",
       "      <td id=\"T_31575_row2_col0\" class=\"data row2 col0\" >MG</td>\n",
       "      <td id=\"T_31575_row2_col1\" class=\"data row2 col1\" >188</td>\n",
       "    </tr>\n",
       "  </tbody>\n",
       "</table>\n"
      ],
      "text/plain": [
       "<pandas.io.formats.style.Styler at 0x16ae6f110>"
      ]
     },
     "execution_count": 269,
     "metadata": {},
     "output_type": "execute_result"
    }
   ],
   "source": [
    "df_outliers_complexos_uf.style.set_caption(\"Outliers - Quantidade de Complexos por UF\")\\\n",
    "    .set_table_styles([\n",
    "        {'selector': 'caption',\n",
    "         'props': [('color', 'black'),\n",
    "                   ('font-size', '16px'),\n",
    "                   ('text-align', 'center'),\n",
    "                   ('background-color', 'white')]},\n",
    "        {'selector': 'th, td',\n",
    "         'props': [('background-color', 'white'),\n",
    "                   ('color', 'black'),\n",
    "                   ('border', '1px solid black'),\n",
    "                   ('text-align', 'left')]}\n",
    "    ])\\\n",
    "    .set_properties(**{'background-color': 'white', 'color': 'black'})\n"
   ]
  },
  {
   "cell_type": "code",
   "execution_count": 71,
   "metadata": {},
   "outputs": [],
   "source": [
    "df_filme_publico= pd.read_csv(folder_path + 'filme_publico.csv')"
   ]
  },
  {
   "cell_type": "code",
   "execution_count": 150,
   "metadata": {},
   "outputs": [
    {
     "data": {
      "text/plain": [
       "np.float64(186736.65547445256)"
      ]
     },
     "execution_count": 150,
     "metadata": {},
     "output_type": "execute_result"
    }
   ],
   "source": [
    "df_filme_publico.get('publico_total').mean()"
   ]
  },
  {
   "cell_type": "code",
   "execution_count": 260,
   "metadata": {},
   "outputs": [],
   "source": [
    "# Calcular os quartis e IQR\n",
    "q1 = df_filme_publico['publico_total'].quantile(0.25)\n",
    "q3 = df_filme_publico['publico_total'].quantile(0.75)\n",
    "iqr = q3 - q1\n",
    "\n",
    "# Definir o fator (ajuste conforme desejar)\n",
    "fator = 50\n",
    "\n",
    "# Calcular os limites\n",
    "limite_inferior = q1 - fator * iqr\n",
    "limite_superior = q3 + fator * iqr\n",
    "\n",
    "# Criar a coluna indicando se é outlier\n",
    "df_filme_publico['outlier'] = (\n",
    "    (df_filme_publico['publico_total'] < limite_inferior) |\n",
    "    (df_filme_publico['publico_total'] > limite_superior)\n",
    ")\n",
    "\n",
    "# Criar um dataframe só com os outliers\n",
    "df_outliers_filmes = df_filme_publico[df_filme_publico['outlier']].copy()\n",
    "\n",
    "# Visualizar\n",
    "df_outliers_filmes=df_outliers_filmes.drop(columns='outlier')\n",
    "\n"
   ]
  },
  {
   "cell_type": "code",
   "execution_count": 261,
   "metadata": {},
   "outputs": [
    {
     "data": {
      "text/html": [
       "<style type=\"text/css\">\n",
       "#T_e0ed1 caption {\n",
       "  color: black;\n",
       "  font-size: 16px;\n",
       "  text-align: center;\n",
       "  background-color: white;\n",
       "}\n",
       "#T_e0ed1 th {\n",
       "  background-color: white;\n",
       "  color: black;\n",
       "  border: 1px solid black;\n",
       "  text-align: left;\n",
       "}\n",
       "#T_e0ed1  td {\n",
       "  background-color: white;\n",
       "  color: black;\n",
       "  border: 1px solid black;\n",
       "  text-align: left;\n",
       "}\n",
       "#T_e0ed1_row0_col0, #T_e0ed1_row0_col1, #T_e0ed1_row1_col0, #T_e0ed1_row1_col1, #T_e0ed1_row2_col0, #T_e0ed1_row2_col1, #T_e0ed1_row3_col0, #T_e0ed1_row3_col1, #T_e0ed1_row4_col0, #T_e0ed1_row4_col1, #T_e0ed1_row5_col0, #T_e0ed1_row5_col1, #T_e0ed1_row6_col0, #T_e0ed1_row6_col1, #T_e0ed1_row7_col0, #T_e0ed1_row7_col1, #T_e0ed1_row8_col0, #T_e0ed1_row8_col1, #T_e0ed1_row9_col0, #T_e0ed1_row9_col1, #T_e0ed1_row10_col0, #T_e0ed1_row10_col1, #T_e0ed1_row11_col0, #T_e0ed1_row11_col1, #T_e0ed1_row12_col0, #T_e0ed1_row12_col1, #T_e0ed1_row13_col0, #T_e0ed1_row13_col1, #T_e0ed1_row14_col0, #T_e0ed1_row14_col1 {\n",
       "  background-color: white;\n",
       "  color: black;\n",
       "}\n",
       "</style>\n",
       "<table id=\"T_e0ed1\">\n",
       "  <caption>Outliers - Público Total por Filme</caption>\n",
       "  <thead>\n",
       "    <tr>\n",
       "      <th class=\"blank level0\" >&nbsp;</th>\n",
       "      <th id=\"T_e0ed1_level0_col0\" class=\"col_heading level0 col0\" >titulo_original</th>\n",
       "      <th id=\"T_e0ed1_level0_col1\" class=\"col_heading level0 col1\" >publico_total</th>\n",
       "    </tr>\n",
       "  </thead>\n",
       "  <tbody>\n",
       "    <tr>\n",
       "      <th id=\"T_e0ed1_level0_row0\" class=\"row_heading level0 row0\" >0</th>\n",
       "      <td id=\"T_e0ed1_row0_col0\" class=\"data row0 col0\" >INSIDE OUT 2</td>\n",
       "      <td id=\"T_e0ed1_row0_col1\" class=\"data row0 col1\" >22438049</td>\n",
       "    </tr>\n",
       "    <tr>\n",
       "      <th id=\"T_e0ed1_level0_row1\" class=\"row_heading level0 row1\" >1</th>\n",
       "      <td id=\"T_e0ed1_row1_col0\" class=\"data row1 col0\" >DESPICABLE ME 4</td>\n",
       "      <td id=\"T_e0ed1_row1_col1\" class=\"data row1 col1\" >7919873</td>\n",
       "    </tr>\n",
       "    <tr>\n",
       "      <th id=\"T_e0ed1_level0_row2\" class=\"row_heading level0 row2\" >2</th>\n",
       "      <td id=\"T_e0ed1_row2_col0\" class=\"data row2 col0\" >MOANA 2</td>\n",
       "      <td id=\"T_e0ed1_row2_col1\" class=\"data row2 col1\" >7916241</td>\n",
       "    </tr>\n",
       "    <tr>\n",
       "      <th id=\"T_e0ed1_level0_row3\" class=\"row_heading level0 row3\" >3</th>\n",
       "      <td id=\"T_e0ed1_row3_col0\" class=\"data row3 col0\" >DEADPOOL & WOLVERINE</td>\n",
       "      <td id=\"T_e0ed1_row3_col1\" class=\"data row3 col1\" >7450522</td>\n",
       "    </tr>\n",
       "    <tr>\n",
       "      <th id=\"T_e0ed1_level0_row4\" class=\"row_heading level0 row4\" >4</th>\n",
       "      <td id=\"T_e0ed1_row4_col0\" class=\"data row4 col0\" >AINDA ESTOU AQUI</td>\n",
       "      <td id=\"T_e0ed1_row4_col1\" class=\"data row4 col1\" >3043422</td>\n",
       "    </tr>\n",
       "    <tr>\n",
       "      <th id=\"T_e0ed1_level0_row5\" class=\"row_heading level0 row5\" >5</th>\n",
       "      <td id=\"T_e0ed1_row5_col0\" class=\"data row5 col0\" >THE FORGE</td>\n",
       "      <td id=\"T_e0ed1_row5_col1\" class=\"data row5 col1\" >3001175</td>\n",
       "    </tr>\n",
       "    <tr>\n",
       "      <th id=\"T_e0ed1_level0_row6\" class=\"row_heading level0 row6\" >6</th>\n",
       "      <td id=\"T_e0ed1_row6_col0\" class=\"data row6 col0\" >IT ENDS WITH US</td>\n",
       "      <td id=\"T_e0ed1_row6_col1\" class=\"data row6 col1\" >2954050</td>\n",
       "    </tr>\n",
       "    <tr>\n",
       "      <th id=\"T_e0ed1_level0_row7\" class=\"row_heading level0 row7\" >7</th>\n",
       "      <td id=\"T_e0ed1_row7_col0\" class=\"data row7 col0\" >KINGDOM OF THE PLANET OF THE APES</td>\n",
       "      <td id=\"T_e0ed1_row7_col1\" class=\"data row7 col1\" >2912326</td>\n",
       "    </tr>\n",
       "    <tr>\n",
       "      <th id=\"T_e0ed1_level0_row8\" class=\"row_heading level0 row8\" >8</th>\n",
       "      <td id=\"T_e0ed1_row8_col0\" class=\"data row8 col0\" >VENOM: THE LAST DANCE</td>\n",
       "      <td id=\"T_e0ed1_row8_col1\" class=\"data row8 col1\" >2603493</td>\n",
       "    </tr>\n",
       "    <tr>\n",
       "      <th id=\"T_e0ed1_level0_row9\" class=\"row_heading level0 row9\" >9</th>\n",
       "      <td id=\"T_e0ed1_row9_col0\" class=\"data row9 col0\" >AQUAMAN AND THE LOST KINGDOM</td>\n",
       "      <td id=\"T_e0ed1_row9_col1\" class=\"data row9 col1\" >2493653</td>\n",
       "    </tr>\n",
       "    <tr>\n",
       "      <th id=\"T_e0ed1_level0_row10\" class=\"row_heading level0 row10\" >10</th>\n",
       "      <td id=\"T_e0ed1_row10_col0\" class=\"data row10 col0\" >MUFASA: THE LION KING</td>\n",
       "      <td id=\"T_e0ed1_row10_col1\" class=\"data row10 col1\" >2356833</td>\n",
       "    </tr>\n",
       "    <tr>\n",
       "      <th id=\"T_e0ed1_level0_row11\" class=\"row_heading level0 row11\" >11</th>\n",
       "      <td id=\"T_e0ed1_row11_col0\" class=\"data row11 col0\" >KUNG FU PANDA 4</td>\n",
       "      <td id=\"T_e0ed1_row11_col1\" class=\"data row11 col1\" >2144705</td>\n",
       "    </tr>\n",
       "    <tr>\n",
       "      <th id=\"T_e0ed1_level0_row12\" class=\"row_heading level0 row12\" >12</th>\n",
       "      <td id=\"T_e0ed1_row12_col0\" class=\"data row12 col0\" >GODZILLA X KONG: THE NEW EMPIRE</td>\n",
       "      <td id=\"T_e0ed1_row12_col1\" class=\"data row12 col1\" >2140607</td>\n",
       "    </tr>\n",
       "    <tr>\n",
       "      <th id=\"T_e0ed1_level0_row13\" class=\"row_heading level0 row13\" >13</th>\n",
       "      <td id=\"T_e0ed1_row13_col0\" class=\"data row13 col0\" >GLADIATOR II</td>\n",
       "      <td id=\"T_e0ed1_row13_col1\" class=\"data row13 col1\" >2114898</td>\n",
       "    </tr>\n",
       "    <tr>\n",
       "      <th id=\"T_e0ed1_level0_row14\" class=\"row_heading level0 row14\" >14</th>\n",
       "      <td id=\"T_e0ed1_row14_col0\" class=\"data row14 col0\" >JOKER: FOLIE À DEUX</td>\n",
       "      <td id=\"T_e0ed1_row14_col1\" class=\"data row14 col1\" >2114355</td>\n",
       "    </tr>\n",
       "  </tbody>\n",
       "</table>\n"
      ],
      "text/plain": [
       "<pandas.io.formats.style.Styler at 0x16ae31090>"
      ]
     },
     "execution_count": 261,
     "metadata": {},
     "output_type": "execute_result"
    }
   ],
   "source": [
    "df_outliers_filmes.head(15).style.set_caption(\"Outliers - Público Total por Filme\")\\\n",
    "    .set_table_styles([\n",
    "        {'selector': 'caption',\n",
    "         'props': [('color', 'black'),\n",
    "                   ('font-size', '16px'),\n",
    "                   ('text-align', 'center'),\n",
    "                   ('background-color', 'white')]},\n",
    "        {'selector': 'th, td',\n",
    "         'props': [('background-color', 'white'),\n",
    "                   ('color', 'black'),\n",
    "                   ('border', '1px solid black'),\n",
    "                   ('text-align', 'left')]}\n",
    "    ])\\\n",
    "    .set_properties(**{'background-color': 'white', 'color': 'black'})"
   ]
  },
  {
   "cell_type": "code",
   "execution_count": 88,
   "metadata": {},
   "outputs": [],
   "source": [
    "df_publico_distribuidoras= pd.read_csv(folder_path + 'publico_distribuidoras.csv')"
   ]
  },
  {
   "cell_type": "code",
   "execution_count": 262,
   "metadata": {},
   "outputs": [],
   "source": [
    "# Calcular os quartis e IQR\n",
    "q1 = df_publico_distribuidoras['publico_total'].quantile(0.25)\n",
    "q3 = df_publico_distribuidoras['publico_total'].quantile(0.75)\n",
    "iqr = q3 - q1\n",
    "\n",
    "# Definir o fator (ajuste conforme desejar)\n",
    "fator = 5\n",
    "\n",
    "# Calcular os limites\n",
    "limite_inferior = q1 - fator * iqr\n",
    "limite_superior = q3 + fator * iqr\n",
    "\n",
    "# Criar a coluna indicando se é outlier\n",
    "df_publico_distribuidoras['outlier'] = (\n",
    "    (df_publico_distribuidoras['publico_total'] < limite_inferior) |\n",
    "    (df_publico_distribuidoras['publico_total'] > limite_superior)\n",
    ")\n",
    "\n",
    "# Criar um dataframe só com os outliers\n",
    "df_outliers_distribuidoras_publico = df_publico_distribuidoras[df_publico_distribuidoras['outlier']].copy()\n",
    "\n",
    "# Visualizar\n",
    "df_outliers_distribuidoras_publico=df_outliers_distribuidoras_publico.drop(columns='outlier')"
   ]
  },
  {
   "cell_type": "code",
   "execution_count": 263,
   "metadata": {},
   "outputs": [
    {
     "data": {
      "text/html": [
       "<style type=\"text/css\">\n",
       "#T_20b6b caption {\n",
       "  color: black;\n",
       "  font-size: 16px;\n",
       "  text-align: center;\n",
       "  background-color: white;\n",
       "}\n",
       "#T_20b6b th {\n",
       "  background-color: white;\n",
       "  color: black;\n",
       "  border: 1px solid black;\n",
       "  text-align: left;\n",
       "}\n",
       "#T_20b6b  td {\n",
       "  background-color: white;\n",
       "  color: black;\n",
       "  border: 1px solid black;\n",
       "  text-align: left;\n",
       "}\n",
       "#T_20b6b_row0_col0, #T_20b6b_row0_col1, #T_20b6b_row1_col0, #T_20b6b_row1_col1, #T_20b6b_row2_col0, #T_20b6b_row2_col1, #T_20b6b_row3_col0, #T_20b6b_row3_col1, #T_20b6b_row4_col0, #T_20b6b_row4_col1, #T_20b6b_row5_col0, #T_20b6b_row5_col1, #T_20b6b_row6_col0, #T_20b6b_row6_col1, #T_20b6b_row7_col0, #T_20b6b_row7_col1, #T_20b6b_row8_col0, #T_20b6b_row8_col1, #T_20b6b_row9_col0, #T_20b6b_row9_col1, #T_20b6b_row10_col0, #T_20b6b_row10_col1, #T_20b6b_row11_col0, #T_20b6b_row11_col1, #T_20b6b_row12_col0, #T_20b6b_row12_col1, #T_20b6b_row13_col0, #T_20b6b_row13_col1 {\n",
       "  background-color: white;\n",
       "  color: black;\n",
       "}\n",
       "</style>\n",
       "<table id=\"T_20b6b\">\n",
       "  <caption>Outliers -Público Total por Distribuidora</caption>\n",
       "  <thead>\n",
       "    <tr>\n",
       "      <th class=\"blank level0\" >&nbsp;</th>\n",
       "      <th id=\"T_20b6b_level0_col0\" class=\"col_heading level0 col0\" >razao_social_distribuidora</th>\n",
       "      <th id=\"T_20b6b_level0_col1\" class=\"col_heading level0 col1\" >publico_total</th>\n",
       "    </tr>\n",
       "  </thead>\n",
       "  <tbody>\n",
       "    <tr>\n",
       "      <th id=\"T_20b6b_level0_row0\" class=\"row_heading level0 row0\" >0</th>\n",
       "      <td id=\"T_20b6b_row0_col0\" class=\"data row0 col0\" >THE WALT DISNEY COMPANY (BRASIL) LTDA.</td>\n",
       "      <td id=\"T_20b6b_row0_col1\" class=\"data row0 col1\" >48762520</td>\n",
       "    </tr>\n",
       "    <tr>\n",
       "      <th id=\"T_20b6b_level0_row1\" class=\"row_heading level0 row1\" >1</th>\n",
       "      <td id=\"T_20b6b_row1_col0\" class=\"data row1 col0\" >WARNER BROS. (SOUTH) INC.</td>\n",
       "      <td id=\"T_20b6b_row1_col1\" class=\"data row1 col1\" >30385038</td>\n",
       "    </tr>\n",
       "    <tr>\n",
       "      <th id=\"T_20b6b_level0_row2\" class=\"row_heading level0 row2\" >2</th>\n",
       "      <td id=\"T_20b6b_row2_col0\" class=\"data row2 col0\" >COLUMBIA TRISTAR FILMES DO BRASIL LTDA</td>\n",
       "      <td id=\"T_20b6b_row2_col1\" class=\"data row2 col1\" >17685261</td>\n",
       "    </tr>\n",
       "    <tr>\n",
       "      <th id=\"T_20b6b_level0_row3\" class=\"row_heading level0 row3\" >3</th>\n",
       "      <td id=\"T_20b6b_row3_col0\" class=\"data row3 col0\" >PARAMOUNT PICTURES BRASIL DISTRIBUIDORA DE FILMES LTDA</td>\n",
       "      <td id=\"T_20b6b_row3_col1\" class=\"data row3 col1\" >8404587</td>\n",
       "    </tr>\n",
       "    <tr>\n",
       "      <th id=\"T_20b6b_level0_row4\" class=\"row_heading level0 row4\" >4</th>\n",
       "      <td id=\"T_20b6b_row4_col0\" class=\"data row4 col0\" >SM DISTRIBUIDORA DE FILMES LTDA</td>\n",
       "      <td id=\"T_20b6b_row4_col1\" class=\"data row4 col1\" >7884111</td>\n",
       "    </tr>\n",
       "    <tr>\n",
       "      <th id=\"T_20b6b_level0_row5\" class=\"row_heading level0 row5\" >5</th>\n",
       "      <td id=\"T_20b6b_row5_col0\" class=\"data row5 col0\" >DIAMOND FILMS DO BRASIL PRODUÇÃO E DISTRIBUIÇÃO AUDIOVISUAL LTDA.</td>\n",
       "      <td id=\"T_20b6b_row5_col1\" class=\"data row5 col1\" >4507384</td>\n",
       "    </tr>\n",
       "    <tr>\n",
       "      <th id=\"T_20b6b_level0_row6\" class=\"row_heading level0 row6\" >6</th>\n",
       "      <td id=\"T_20b6b_row6_col0\" class=\"data row6 col0\" >WMIX DISTRIBUIDORA LTDA.</td>\n",
       "      <td id=\"T_20b6b_row6_col1\" class=\"data row6 col1\" >3801609</td>\n",
       "    </tr>\n",
       "    <tr>\n",
       "      <th id=\"T_20b6b_level0_row7\" class=\"row_heading level0 row7\" >7</th>\n",
       "      <td id=\"T_20b6b_row7_col0\" class=\"data row7 col0\" >FREESPIRIT DISTRIBUIDORA DE FILMES LTDA.</td>\n",
       "      <td id=\"T_20b6b_row7_col1\" class=\"data row7 col1\" >1934258</td>\n",
       "    </tr>\n",
       "    <tr>\n",
       "      <th id=\"T_20b6b_level0_row8\" class=\"row_heading level0 row8\" >8</th>\n",
       "      <td id=\"T_20b6b_row8_col0\" class=\"data row8 col0\" >H2O DISTRIBUIDORA DE FILMES LTDA</td>\n",
       "      <td id=\"T_20b6b_row8_col1\" class=\"data row8 col1\" >1754354</td>\n",
       "    </tr>\n",
       "    <tr>\n",
       "      <th id=\"T_20b6b_level0_row9\" class=\"row_heading level0 row9\" >9</th>\n",
       "      <td id=\"T_20b6b_row9_col0\" class=\"data row9 col0\" >UNITED CINEMAS INTERNATIONAL BRASIL LTDA.</td>\n",
       "      <td id=\"T_20b6b_row9_col1\" class=\"data row9 col1\" >545233</td>\n",
       "    </tr>\n",
       "    <tr>\n",
       "      <th id=\"T_20b6b_level0_row10\" class=\"row_heading level0 row10\" >10</th>\n",
       "      <td id=\"T_20b6b_row10_col0\" class=\"data row10 col0\" >SA DISTRIBUIDORA DE CONTEÚDO AUDIOVISUAL LTDA</td>\n",
       "      <td id=\"T_20b6b_row10_col1\" class=\"data row10 col1\" >474841</td>\n",
       "    </tr>\n",
       "    <tr>\n",
       "      <th id=\"T_20b6b_level0_row11\" class=\"row_heading level0 row11\" >11</th>\n",
       "      <td id=\"T_20b6b_row11_col0\" class=\"data row11 col0\" >O2 PRODUÇÕES ARTÍSTICAS E CINEMATOGRÁFICAS LTDA.</td>\n",
       "      <td id=\"T_20b6b_row11_col1\" class=\"data row11 col1\" >403748</td>\n",
       "    </tr>\n",
       "    <tr>\n",
       "      <th id=\"T_20b6b_level0_row12\" class=\"row_heading level0 row12\" >12</th>\n",
       "      <td id=\"T_20b6b_row12_col0\" class=\"data row12 col0\" >PROVIDENCE DISTRIBUIDORA DE FILMES LTDA - EPP</td>\n",
       "      <td id=\"T_20b6b_row12_col1\" class=\"data row12 col1\" >231933</td>\n",
       "    </tr>\n",
       "    <tr>\n",
       "      <th id=\"T_20b6b_level0_row13\" class=\"row_heading level0 row13\" >13</th>\n",
       "      <td id=\"T_20b6b_row13_col0\" class=\"data row13 col0\" >ANTONIO FERNANDES FILMES LTDA</td>\n",
       "      <td id=\"T_20b6b_row13_col1\" class=\"data row13 col1\" >190304</td>\n",
       "    </tr>\n",
       "  </tbody>\n",
       "</table>\n"
      ],
      "text/plain": [
       "<pandas.io.formats.style.Styler at 0x16ae49b10>"
      ]
     },
     "execution_count": 263,
     "metadata": {},
     "output_type": "execute_result"
    }
   ],
   "source": [
    "df_outliers_distribuidoras_publico.style.set_caption(\"Outliers -Público Total por Distribuidora\")\\\n",
    "    .set_table_styles([\n",
    "        {'selector': 'caption',\n",
    "         'props': [('color', 'black'),\n",
    "                   ('font-size', '16px'),\n",
    "                   ('text-align', 'center'),\n",
    "                   ('background-color', 'white')]},\n",
    "        {'selector': 'th, td',\n",
    "         'props': [('background-color', 'white'),\n",
    "                   ('color', 'black'),\n",
    "                   ('border', '1px solid black'),\n",
    "                   ('text-align', 'left')]}\n",
    "    ])\\\n",
    "    .set_properties(**{'background-color': 'white', 'color': 'black'})"
   ]
  },
  {
   "cell_type": "code",
   "execution_count": 90,
   "metadata": {},
   "outputs": [],
   "source": [
    "df_filmes_distribuidoras= pd.read_csv(folder_path + 'filme_distribuidoras.csv')"
   ]
  },
  {
   "cell_type": "code",
   "execution_count": 264,
   "metadata": {},
   "outputs": [],
   "source": [
    "# Calcular os quartis e IQR\n",
    "q1 = df_filmes_distribuidoras['quantidade_filmes'].quantile(0.25)\n",
    "q3 = df_filmes_distribuidoras['quantidade_filmes'].quantile(0.75)\n",
    "iqr = q3 - q1\n",
    "\n",
    "# Definir o fator (ajuste conforme desejar)\n",
    "fator = 5\n",
    "\n",
    "# Calcular os limites\n",
    "limite_inferior = q1 - fator * iqr\n",
    "limite_superior = q3 + fator * iqr\n",
    "\n",
    "# Criar a coluna indicando se é outlier\n",
    "df_filmes_distribuidoras['outlier'] = (\n",
    "    ( df_filmes_distribuidoras['quantidade_filmes'] < limite_inferior) |\n",
    "    ( df_filmes_distribuidoras['quantidade_filmes'] > limite_superior)\n",
    ")\n",
    "\n",
    "# Criar um dataframe só com os outliers\n",
    "df_outliers_distribuidoras_filmes= df_filmes_distribuidoras[df_filmes_distribuidoras['outlier']].copy()\n",
    "\n",
    "# Visualizar\n",
    "df_outliers_distribuidoras_filmes=df_outliers_distribuidoras_filmes.drop(columns='outlier')"
   ]
  },
  {
   "cell_type": "code",
   "execution_count": 270,
   "metadata": {},
   "outputs": [
    {
     "data": {
      "text/html": [
       "<style type=\"text/css\">\n",
       "#T_8d26b caption {\n",
       "  color: black;\n",
       "  font-size: 16px;\n",
       "  text-align: center;\n",
       "  background-color: white;\n",
       "}\n",
       "#T_8d26b th {\n",
       "  background-color: white;\n",
       "  color: black;\n",
       "  border: 1px solid black;\n",
       "  text-align: left;\n",
       "}\n",
       "#T_8d26b  td {\n",
       "  background-color: white;\n",
       "  color: black;\n",
       "  border: 1px solid black;\n",
       "  text-align: left;\n",
       "}\n",
       "#T_8d26b_row0_col0, #T_8d26b_row0_col1, #T_8d26b_row1_col0, #T_8d26b_row1_col1, #T_8d26b_row2_col0, #T_8d26b_row2_col1, #T_8d26b_row3_col0, #T_8d26b_row3_col1, #T_8d26b_row4_col0, #T_8d26b_row4_col1, #T_8d26b_row5_col0, #T_8d26b_row5_col1, #T_8d26b_row6_col0, #T_8d26b_row6_col1, #T_8d26b_row7_col0, #T_8d26b_row7_col1, #T_8d26b_row8_col0, #T_8d26b_row8_col1, #T_8d26b_row9_col0, #T_8d26b_row9_col1, #T_8d26b_row10_col0, #T_8d26b_row10_col1, #T_8d26b_row11_col0, #T_8d26b_row11_col1, #T_8d26b_row12_col0, #T_8d26b_row12_col1, #T_8d26b_row13_col0, #T_8d26b_row13_col1, #T_8d26b_row14_col0, #T_8d26b_row14_col1 {\n",
       "  background-color: white;\n",
       "  color: black;\n",
       "}\n",
       "</style>\n",
       "<table id=\"T_8d26b\">\n",
       "  <caption>Outliers - Total de Filmes por Distribuidora</caption>\n",
       "  <thead>\n",
       "    <tr>\n",
       "      <th class=\"blank level0\" >&nbsp;</th>\n",
       "      <th id=\"T_8d26b_level0_col0\" class=\"col_heading level0 col0\" >razao_social_distribuidora</th>\n",
       "      <th id=\"T_8d26b_level0_col1\" class=\"col_heading level0 col1\" >quantidade_filmes</th>\n",
       "    </tr>\n",
       "  </thead>\n",
       "  <tbody>\n",
       "    <tr>\n",
       "      <th id=\"T_8d26b_level0_row0\" class=\"row_heading level0 row0\" >0</th>\n",
       "      <td id=\"T_8d26b_row0_col0\" class=\"data row0 col0\" >WARNER BROS. (SOUTH) INC.</td>\n",
       "      <td id=\"T_8d26b_row0_col1\" class=\"data row0 col1\" >573741</td>\n",
       "    </tr>\n",
       "    <tr>\n",
       "      <th id=\"T_8d26b_level0_row1\" class=\"row_heading level0 row1\" >1</th>\n",
       "      <td id=\"T_8d26b_row1_col0\" class=\"data row1 col0\" >THE WALT DISNEY COMPANY (BRASIL) LTDA.</td>\n",
       "      <td id=\"T_8d26b_row1_col1\" class=\"data row1 col1\" >419396</td>\n",
       "    </tr>\n",
       "    <tr>\n",
       "      <th id=\"T_8d26b_level0_row2\" class=\"row_heading level0 row2\" >2</th>\n",
       "      <td id=\"T_8d26b_row2_col0\" class=\"data row2 col0\" >COLUMBIA TRISTAR FILMES DO BRASIL LTDA</td>\n",
       "      <td id=\"T_8d26b_row2_col1\" class=\"data row2 col1\" >297812</td>\n",
       "    </tr>\n",
       "    <tr>\n",
       "      <th id=\"T_8d26b_level0_row3\" class=\"row_heading level0 row3\" >3</th>\n",
       "      <td id=\"T_8d26b_row3_col0\" class=\"data row3 col0\" >SM DISTRIBUIDORA DE FILMES LTDA</td>\n",
       "      <td id=\"T_8d26b_row3_col1\" class=\"data row3 col1\" >204179</td>\n",
       "    </tr>\n",
       "    <tr>\n",
       "      <th id=\"T_8d26b_level0_row4\" class=\"row_heading level0 row4\" >4</th>\n",
       "      <td id=\"T_8d26b_row4_col0\" class=\"data row4 col0\" >PARAMOUNT PICTURES BRASIL DISTRIBUIDORA DE FILMES LTDA</td>\n",
       "      <td id=\"T_8d26b_row4_col1\" class=\"data row4 col1\" >146848</td>\n",
       "    </tr>\n",
       "    <tr>\n",
       "      <th id=\"T_8d26b_level0_row5\" class=\"row_heading level0 row5\" >5</th>\n",
       "      <td id=\"T_8d26b_row5_col0\" class=\"data row5 col0\" >WMIX DISTRIBUIDORA LTDA.</td>\n",
       "      <td id=\"T_8d26b_row5_col1\" class=\"data row5 col1\" >137575</td>\n",
       "    </tr>\n",
       "    <tr>\n",
       "      <th id=\"T_8d26b_level0_row6\" class=\"row_heading level0 row6\" >6</th>\n",
       "      <td id=\"T_8d26b_row6_col0\" class=\"data row6 col0\" >DIAMOND FILMS DO BRASIL PRODUÇÃO E DISTRIBUIÇÃO AUDIOVISUAL LTDA.</td>\n",
       "      <td id=\"T_8d26b_row6_col1\" class=\"data row6 col1\" >119300</td>\n",
       "    </tr>\n",
       "    <tr>\n",
       "      <th id=\"T_8d26b_level0_row7\" class=\"row_heading level0 row7\" >7</th>\n",
       "      <td id=\"T_8d26b_row7_col0\" class=\"data row7 col0\" >H2O DISTRIBUIDORA DE FILMES LTDA</td>\n",
       "      <td id=\"T_8d26b_row7_col1\" class=\"data row7 col1\" >33955</td>\n",
       "    </tr>\n",
       "    <tr>\n",
       "      <th id=\"T_8d26b_level0_row8\" class=\"row_heading level0 row8\" >8</th>\n",
       "      <td id=\"T_8d26b_row8_col0\" class=\"data row8 col0\" >FREESPIRIT DISTRIBUIDORA DE FILMES LTDA.</td>\n",
       "      <td id=\"T_8d26b_row8_col1\" class=\"data row8 col1\" >33235</td>\n",
       "    </tr>\n",
       "    <tr>\n",
       "      <th id=\"T_8d26b_level0_row9\" class=\"row_heading level0 row9\" >9</th>\n",
       "      <td id=\"T_8d26b_row9_col0\" class=\"data row9 col0\" >O2 PRODUÇÕES ARTÍSTICAS E CINEMATOGRÁFICAS LTDA.</td>\n",
       "      <td id=\"T_8d26b_row9_col1\" class=\"data row9 col1\" >14949</td>\n",
       "    </tr>\n",
       "    <tr>\n",
       "      <th id=\"T_8d26b_level0_row10\" class=\"row_heading level0 row10\" >10</th>\n",
       "      <td id=\"T_8d26b_row10_col0\" class=\"data row10 col0\" >PROVIDENCE DISTRIBUIDORA DE FILMES LTDA - EPP</td>\n",
       "      <td id=\"T_8d26b_row10_col1\" class=\"data row10 col1\" >12601</td>\n",
       "    </tr>\n",
       "    <tr>\n",
       "      <th id=\"T_8d26b_level0_row11\" class=\"row_heading level0 row11\" >11</th>\n",
       "      <td id=\"T_8d26b_row11_col0\" class=\"data row11 col0\" >SA DISTRIBUIDORA DE CONTEÚDO AUDIOVISUAL LTDA</td>\n",
       "      <td id=\"T_8d26b_row11_col1\" class=\"data row11 col1\" >11440</td>\n",
       "    </tr>\n",
       "    <tr>\n",
       "      <th id=\"T_8d26b_level0_row12\" class=\"row_heading level0 row12\" >12</th>\n",
       "      <td id=\"T_8d26b_row12_col0\" class=\"data row12 col0\" >UNITED CINEMAS INTERNATIONAL BRASIL LTDA.</td>\n",
       "      <td id=\"T_8d26b_row12_col1\" class=\"data row12 col1\" >9318</td>\n",
       "    </tr>\n",
       "    <tr>\n",
       "      <th id=\"T_8d26b_level0_row13\" class=\"row_heading level0 row13\" >13</th>\n",
       "      <td id=\"T_8d26b_row13_col0\" class=\"data row13 col0\" >ELO AUDIOVISUAL SERVIÇOS LTDA</td>\n",
       "      <td id=\"T_8d26b_row13_col1\" class=\"data row13 col1\" >9266</td>\n",
       "    </tr>\n",
       "    <tr>\n",
       "      <th id=\"T_8d26b_level0_row14\" class=\"row_heading level0 row14\" >14</th>\n",
       "      <td id=\"T_8d26b_row14_col0\" class=\"data row14 col0\" >VITRINE FILMES LTDA</td>\n",
       "      <td id=\"T_8d26b_row14_col1\" class=\"data row14 col1\" >9137</td>\n",
       "    </tr>\n",
       "  </tbody>\n",
       "</table>\n"
      ],
      "text/plain": [
       "<pandas.io.formats.style.Styler at 0x16ae31650>"
      ]
     },
     "execution_count": 270,
     "metadata": {},
     "output_type": "execute_result"
    }
   ],
   "source": [
    "df_outliers_distribuidoras_filmes.style.set_caption(\"Outliers - Total de Filmes por Distribuidora\")\\\n",
    "    .set_table_styles([\n",
    "        {'selector': 'caption',\n",
    "         'props': [('color', 'black'),\n",
    "                   ('font-size', '16px'),\n",
    "                   ('text-align', 'center'),\n",
    "                   ('background-color', 'white')]},\n",
    "        {'selector': 'th, td',\n",
    "         'props': [('background-color', 'white'),\n",
    "                   ('color', 'black'),\n",
    "                   ('border', '1px solid black'),\n",
    "                   ('text-align', 'left')]}\n",
    "    ])\\\n",
    "    .set_properties(**{'background-color': 'white', 'color': 'black'})"
   ]
  },
  {
   "cell_type": "markdown",
   "metadata": {},
   "source": [
    "Correlação entre número de filmes e público por distribuidora"
   ]
  },
  {
   "cell_type": "code",
   "execution_count": 94,
   "metadata": {},
   "outputs": [],
   "source": [
    "df_merged = pd.merge(\n",
    "    df_filmes_distribuidoras, \n",
    "    df_publico_distribuidoras, \n",
    "    on='razao_social_distribuidora'\n",
    ")\n"
   ]
  },
  {
   "cell_type": "code",
   "execution_count": 274,
   "metadata": {},
   "outputs": [
    {
     "data": {
      "image/png": "[encoded data removed]",
      "text/plain": [
       "<Figure size 800x600 with 1 Axes>"
      ]
     },
     "metadata": {},
     "output_type": "display_data"
    }
   ],
   "source": [
    "plt.figure(figsize=(8,6))\n",
    "plt.scatter(\n",
    "    df_merged['quantidade_filmes'], \n",
    "    df_merged['publico_total'], \n",
    "    color='blue'\n",
    ")\n",
    "plt.title('Correlação entre Número de Filmes e Público por Distribuidora')\n",
    "plt.xlabel('Número de Filmes')\n",
    "plt.ylabel('Público Total')\n",
    "plt.grid(True)\n",
    "plt.show()"
   ]
  },
  {
   "cell_type": "code",
   "execution_count": 272,
   "metadata": {},
   "outputs": [
    {
     "data": {
      "image/png": "[encoded data removed]",
      "text/plain": [
       "<Figure size 800x600 with 1 Axes>"
      ]
     },
     "metadata": {},
     "output_type": "display_data"
    }
   ],
   "source": [
    "import numpy as np\n",
    "# Função para remover outliers com base no IQR\n",
    "def remover_outliers(df, coluna, fator=1.5):\n",
    "    q1 = df[coluna].quantile(0.25)\n",
    "    q3 = df[coluna].quantile(0.75)\n",
    "    iqr = q3 - q1\n",
    "    limite_inferior = q1 - fator * iqr\n",
    "    limite_superior = q3 + fator * iqr\n",
    "    filtro = (df[coluna] >= limite_inferior) & (df[coluna] <= limite_superior)\n",
    "    return df[filtro]\n",
    "\n",
    "# Aplicar a remoção de outliers nas duas colunas\n",
    "df_sem_outliers = remover_outliers(df_merged, 'quantidade_filmes')\n",
    "df_sem_outliers = remover_outliers(df_sem_outliers, 'publico_total')\n",
    "\n",
    "# Plotar gráfico sem outliers\n",
    "plt.figure(figsize=(8,6))\n",
    "plt.scatter(\n",
    "    df_sem_outliers['quantidade_filmes'], \n",
    "    df_sem_outliers['publico_total'], \n",
    "    color='blue'\n",
    ")\n",
    "plt.title('Correlação entre Número de Filmes e Público por Distribuidora (Sem Outliers)')\n",
    "plt.xlabel('Número de Filmes')\n",
    "plt.ylabel('Público Total')\n",
    "plt.grid(True)\n",
    "plt.show()\n"
   ]
  },
  {
   "cell_type": "code",
   "execution_count": 111,
   "metadata": {},
   "outputs": [
    {
     "name": "stdout",
     "output_type": "stream",
     "text": [
      "Collecting scikit-learn\n",
      "  Downloading scikit_learn-1.7.0-cp311-cp311-macosx_12_0_arm64.whl (10.7 MB)\n",
      "\u001b[2K     \u001b[90m━━━━━━━━━━━━━━━━━━━━━━━━━━━━━━━━━━━━━━━━\u001b[0m \u001b[32m10.7/10.7 MB\u001b[0m \u001b[31m6.0 MB/s\u001b[0m eta \u001b[36m0:00:00\u001b[0m00:01\u001b[0m00:01\u001b[0m\n",
      "\u001b[?25hRequirement already satisfied: numpy>=1.22.0 in /Library/Frameworks/Python.framework/Versions/3.11/lib/python3.11/site-packages (from scikit-learn) (2.2.4)\n",
      "Collecting scipy>=1.8.0\n",
      "  Downloading scipy-1.15.3-cp311-cp311-macosx_12_0_arm64.whl (30.1 MB)\n",
      "\u001b[2K     \u001b[90m━━━━━━━━━━━━━━━━━━━━━━━━━━━━━━━━━━━━━━━━\u001b[0m \u001b[32m30.1/30.1 MB\u001b[0m \u001b[31m6.5 MB/s\u001b[0m eta \u001b[36m0:00:00\u001b[0m00:01\u001b[0m00:01\u001b[0m\n",
      "\u001b[?25hCollecting joblib>=1.2.0\n",
      "  Downloading joblib-1.5.1-py3-none-any.whl (307 kB)\n",
      "\u001b[2K     \u001b[90m━━━━━━━━━━━━━━━━━━━━━━━━━━━━━━━━━━━━━━━\u001b[0m \u001b[32m307.7/307.7 kB\u001b[0m \u001b[31m3.8 MB/s\u001b[0m eta \u001b[36m0:00:00\u001b[0m00:01\u001b[0m00:01\u001b[0m\n",
      "\u001b[?25hCollecting threadpoolctl>=3.1.0\n",
      "  Downloading threadpoolctl-3.6.0-py3-none-any.whl (18 kB)\n",
      "Installing collected packages: threadpoolctl, scipy, joblib, scikit-learn\n",
      "Successfully installed joblib-1.5.1 scikit-learn-1.7.0 scipy-1.15.3 threadpoolctl-3.6.0\n",
      "\n",
      "\u001b[1m[\u001b[0m\u001b[34;49mnotice\u001b[0m\u001b[1;39;49m]\u001b[0m\u001b[39;49m A new release of pip available: \u001b[0m\u001b[31;49m22.3\u001b[0m\u001b[39;49m -> \u001b[0m\u001b[32;49m25.1.1\u001b[0m\n",
      "\u001b[1m[\u001b[0m\u001b[34;49mnotice\u001b[0m\u001b[1;39;49m]\u001b[0m\u001b[39;49m To update, run: \u001b[0m\u001b[32;49mpip3 install --upgrade pip\u001b[0m\n"
     ]
    }
   ],
   "source": [
    "import sys\n",
    "!{sys.executable} -m pip install scikit-learn"
   ]
  },
  {
   "cell_type": "code",
   "execution_count": 112,
   "metadata": {},
   "outputs": [
    {
     "name": "stdout",
     "output_type": "stream",
     "text": [
      "1.7.0\n"
     ]
    }
   ],
   "source": [
    "import sklearn\n",
    "print(sklearn.__version__)"
   ]
  },
  {
   "cell_type": "code",
   "execution_count": 113,
   "metadata": {},
   "outputs": [],
   "source": [
    "from sklearn.linear_model import LinearRegression"
   ]
  },
  {
   "cell_type": "code",
   "execution_count": 273,
   "metadata": {},
   "outputs": [
    {
     "name": "stdout",
     "output_type": "stream",
     "text": [
      "Equação da reta: y = 7.87 * x + 508.04\n",
      "R² (coeficiente de determinação): 0.7563\n"
     ]
    },
    {
     "name": "stderr",
     "output_type": "stream",
     "text": [
      "/Library/Frameworks/Python.framework/Versions/3.11/lib/python3.11/site-packages/sklearn/utils/validation.py:2749: UserWarning: X does not have valid feature names, but LinearRegression was fitted with feature names\n",
      "  warnings.warn(\n"
     ]
    },
    {
     "data": {
      "image/png": "[encoded data removed]",
      "text/plain": [
       "<Figure size 800x600 with 1 Axes>"
      ]
     },
     "metadata": {},
     "output_type": "display_data"
    }
   ],
   "source": [
    "import numpy as np\n",
    "import matplotlib.pyplot as plt\n",
    "\n",
    "# Definir as variáveis\n",
    "X = df_sem_outliers[['quantidade_filmes']]  # precisa ser 2D\n",
    "y = df_sem_outliers['publico_total']\n",
    "\n",
    "# Criar e ajustar o modelo\n",
    "modelo = LinearRegression()\n",
    "modelo.fit(X, y)\n",
    "\n",
    "# Coeficientes\n",
    "coef_angular = modelo.coef_[0]\n",
    "intercepto = modelo.intercept_\n",
    "\n",
    "print(f'Equação da reta: y = {coef_angular:.2f} * x + {intercepto:.2f}')\n",
    "print(f'R² (coeficiente de determinação): {modelo.score(X, y):.4f}')\n",
    "\n",
    "# Gerar valores para a linha de regressão\n",
    "x_vals = np.linspace(X.min(), X.max(), 100).reshape(-1, 1)\n",
    "y_vals = modelo.predict(x_vals)\n",
    "\n",
    "# Plotar os pontos e a linha de regressão\n",
    "plt.figure(figsize=(8,6))\n",
    "plt.scatter(X, y, color='blue', label='Distribuidoras')\n",
    "plt.plot(x_vals, y_vals, color='red', linewidth=2, label='Regressão Linear')\n",
    "plt.title('Correlação entre Número de Filmes e Público (Sem Outliers e Com Regressão)')\n",
    "plt.xlabel('Número de Filmes')\n",
    "plt.ylabel('Público Total')\n",
    "plt.legend()\n",
    "plt.grid(True)\n",
    "plt.show()\n"
   ]
  },
  {
   "cell_type": "markdown",
   "metadata": {},
   "source": [
    "Acessibilidade"
   ]
  },
  {
   "cell_type": "code",
   "execution_count": 120,
   "metadata": {},
   "outputs": [
    {
     "data": {
      "text/html": [
       "<div>\n",
       "<style scoped>\n",
       "    .dataframe tbody tr th:only-of-type {\n",
       "        vertical-align: middle;\n",
       "    }\n",
       "\n",
       "    .dataframe tbody tr th {\n",
       "        vertical-align: top;\n",
       "    }\n",
       "\n",
       "    .dataframe thead th {\n",
       "        text-align: right;\n",
       "    }\n",
       "</style>\n",
       "<table border=\"1\" class=\"dataframe\">\n",
       "  <thead>\n",
       "    <tr style=\"text-align: right;\">\n",
       "      <th></th>\n",
       "      <th>banheiros_acessiveis</th>\n",
       "      <th>quantidade</th>\n",
       "    </tr>\n",
       "  </thead>\n",
       "  <tbody>\n",
       "    <tr>\n",
       "      <th>0</th>\n",
       "      <td>SIM</td>\n",
       "      <td>1116</td>\n",
       "    </tr>\n",
       "    <tr>\n",
       "      <th>1</th>\n",
       "      <td>NÃO</td>\n",
       "      <td>827</td>\n",
       "    </tr>\n",
       "  </tbody>\n",
       "</table>\n",
       "</div>"
      ],
      "text/plain": [
       "  banheiros_acessiveis  quantidade\n",
       "0                  SIM        1116\n",
       "1                  NÃO         827"
      ]
     },
     "execution_count": 120,
     "metadata": {},
     "output_type": "execute_result"
    }
   ],
   "source": [
    "df_banheiros_acessiveis= pd.read_csv(folder_path + 'banheiros_acessiveis.csv')\n",
    "df_banheiros_acessiveis"
   ]
  },
  {
   "cell_type": "code",
   "execution_count": 131,
   "metadata": {},
   "outputs": [
    {
     "data": {
      "text/plain": [
       "<Axes: title={'center': 'Complexos com banheiros acessíveis'}, xlabel='banheiros_acessiveis'>"
      ]
     },
     "execution_count": 131,
     "metadata": {},
     "output_type": "execute_result"
    },
    {
     "data": {
      "image/png": "[encoded data removed]",
      "text/plain": [
       "<Figure size 640x480 with 1 Axes>"
      ]
     },
     "metadata": {},
     "output_type": "display_data"
    }
   ],
   "source": [
    "df_banheiros_acessiveis.plot(kind='bar',x='banheiros_acessiveis',y='quantidade', title=\"Complexos com banheiros acessíveis\")"
   ]
  },
  {
   "cell_type": "code",
   "execution_count": 125,
   "metadata": {},
   "outputs": [
    {
     "data": {
      "text/plain": [
       "<Axes: title={'center': 'Salas com acesso aos assentos com rampa'}, xlabel='acesso_assentos_com_rampa'>"
      ]
     },
     "execution_count": 125,
     "metadata": {},
     "output_type": "execute_result"
    },
    {
     "data": {
      "image/png": "[encoded data removed]",
      "text/plain": [
       "<Figure size 640x480 with 1 Axes>"
      ]
     },
     "metadata": {},
     "output_type": "display_data"
    }
   ],
   "source": [
    "df_salas_acesso_assentos= pd.read_csv(folder_path + 'salas_acesso_assentos.csv')\n",
    "df_salas_acesso_assentos.plot(kind='bar',x='acesso_assentos_com_rampa',y='quantidade', title=\"Salas com acesso aos assentos com rampa\")"
   ]
  },
  {
   "cell_type": "code",
   "execution_count": 126,
   "metadata": {},
   "outputs": [
    {
     "data": {
      "text/plain": [
       "<Axes: title={'center': 'Salas com acesso com rampa'}, xlabel='acesso_sala_com_rampa'>"
      ]
     },
     "execution_count": 126,
     "metadata": {},
     "output_type": "execute_result"
    },
    {
     "data": {
      "image/png": "[encoded data removed]",
      "text/plain": [
       "<Figure size 640x480 with 1 Axes>"
      ]
     },
     "metadata": {},
     "output_type": "display_data"
    }
   ],
   "source": [
    "df_salas_acesso= pd.read_csv(folder_path + 'salas_acesso.csv')\n",
    "df_salas_acesso.plot(kind='bar',x='acesso_sala_com_rampa',y='quantidade', title=\"Salas com acesso com rampa\")"
   ]
  },
  {
   "cell_type": "code",
   "execution_count": 129,
   "metadata": {},
   "outputs": [
    {
     "data": {
      "text/plain": [
       "<Axes: title={'center': 'Situações dos complexos'}, ylabel='situacao_complexo'>"
      ]
     },
     "execution_count": 129,
     "metadata": {},
     "output_type": "execute_result"
    },
    {
     "data": {
      "image/png": "[encoded data removed]",
      "text/plain": [
       "<Figure size 640x480 with 1 Axes>"
      ]
     },
     "metadata": {},
     "output_type": "display_data"
    }
   ],
   "source": [
    "df_situacao_complexo= pd.read_csv(folder_path + 'situacao_complexo.csv')\n",
    "df_situacao_complexo.plot(kind='barh',x='situacao_complexo',y='quantidade', title=\"Situações dos complexos\")"
   ]
  },
  {
   "cell_type": "code",
   "execution_count": 244,
   "metadata": {},
   "outputs": [
    {
     "data": {
      "text/html": [
       "<div>\n",
       "<style scoped>\n",
       "    .dataframe tbody tr th:only-of-type {\n",
       "        vertical-align: middle;\n",
       "    }\n",
       "\n",
       "    .dataframe tbody tr th {\n",
       "        vertical-align: top;\n",
       "    }\n",
       "\n",
       "    .dataframe thead th {\n",
       "        text-align: right;\n",
       "    }\n",
       "</style>\n",
       "<table border=\"1\" class=\"dataframe\">\n",
       "  <thead>\n",
       "    <tr style=\"text-align: right;\">\n",
       "      <th></th>\n",
       "      <th>assentos_obesidade</th>\n",
       "      <th>quantidade</th>\n",
       "    </tr>\n",
       "  </thead>\n",
       "  <tbody>\n",
       "    <tr>\n",
       "      <th>0</th>\n",
       "      <td>&lt;NA&gt;</td>\n",
       "      <td>1812</td>\n",
       "    </tr>\n",
       "    <tr>\n",
       "      <th>1</th>\n",
       "      <td>1</td>\n",
       "      <td>1152</td>\n",
       "    </tr>\n",
       "    <tr>\n",
       "      <th>2</th>\n",
       "      <td>2</td>\n",
       "      <td>1066</td>\n",
       "    </tr>\n",
       "    <tr>\n",
       "      <th>3</th>\n",
       "      <td>0</td>\n",
       "      <td>636</td>\n",
       "    </tr>\n",
       "    <tr>\n",
       "      <th>4</th>\n",
       "      <td>3</td>\n",
       "      <td>530</td>\n",
       "    </tr>\n",
       "    <tr>\n",
       "      <th>5</th>\n",
       "      <td>4</td>\n",
       "      <td>485</td>\n",
       "    </tr>\n",
       "    <tr>\n",
       "      <th>6</th>\n",
       "      <td>5</td>\n",
       "      <td>112</td>\n",
       "    </tr>\n",
       "    <tr>\n",
       "      <th>7</th>\n",
       "      <td>6</td>\n",
       "      <td>109</td>\n",
       "    </tr>\n",
       "    <tr>\n",
       "      <th>8</th>\n",
       "      <td>8</td>\n",
       "      <td>50</td>\n",
       "    </tr>\n",
       "    <tr>\n",
       "      <th>9</th>\n",
       "      <td>10</td>\n",
       "      <td>42</td>\n",
       "    </tr>\n",
       "  </tbody>\n",
       "</table>\n",
       "</div>"
      ],
      "text/plain": [
       "   assentos_obesidade  quantidade\n",
       "0                <NA>        1812\n",
       "1                   1        1152\n",
       "2                   2        1066\n",
       "3                   0         636\n",
       "4                   3         530\n",
       "5                   4         485\n",
       "6                   5         112\n",
       "7                   6         109\n",
       "8                   8          50\n",
       "9                  10          42"
      ]
     },
     "execution_count": 244,
     "metadata": {},
     "output_type": "execute_result"
    }
   ],
   "source": [
    "# Ler o CSV\n",
    "df_assentos_obesidade = pd.read_csv(folder_path + 'assentos_obesidade.csv')\n",
    "df_assentos_obesidade=df_assentos_obesidade.sort_values(by='quantidade', ascending=False)\n",
    "df_assentos_obesidade = df_assentos_obesidade.reset_index(drop=True)\n",
    "df_assentos_obesidade['assentos_obesidade'] = df_assentos_obesidade['assentos_obesidade'].astype('Int64')\n",
    "\n",
    "# E seleciona as colunas:\n",
    "df_assentos_obesidade[['assentos_obesidade', 'quantidade']].head(10)"
   ]
  },
  {
   "cell_type": "code",
   "execution_count": 245,
   "metadata": {},
   "outputs": [
    {
     "data": {
      "text/html": [
       "<style type=\"text/css\">\n",
       "#T_53796 caption {\n",
       "  color: black;\n",
       "  font-size: 16px;\n",
       "  text-align: center;\n",
       "  background-color: white;\n",
       "}\n",
       "#T_53796 th {\n",
       "  background-color: white;\n",
       "  color: black;\n",
       "  border: 1px solid black;\n",
       "  text-align: left;\n",
       "}\n",
       "#T_53796  td {\n",
       "  background-color: white;\n",
       "  color: black;\n",
       "  border: 1px solid black;\n",
       "  text-align: left;\n",
       "}\n",
       "#T_53796_row0_col0, #T_53796_row0_col1, #T_53796_row1_col0, #T_53796_row1_col1, #T_53796_row2_col0, #T_53796_row2_col1, #T_53796_row3_col0, #T_53796_row3_col1, #T_53796_row4_col0, #T_53796_row4_col1, #T_53796_row5_col0, #T_53796_row5_col1, #T_53796_row6_col0, #T_53796_row6_col1, #T_53796_row7_col0, #T_53796_row7_col1, #T_53796_row8_col0, #T_53796_row8_col1, #T_53796_row9_col0, #T_53796_row9_col1 {\n",
       "  background-color: white;\n",
       "  color: black;\n",
       "}\n",
       "</style>\n",
       "<table id=\"T_53796\">\n",
       "  <caption>Assentos Obesidade X Quantidade de Salas</caption>\n",
       "  <thead>\n",
       "    <tr>\n",
       "      <th class=\"blank level0\" >&nbsp;</th>\n",
       "      <th id=\"T_53796_level0_col0\" class=\"col_heading level0 col0\" >assentos_obesidade</th>\n",
       "      <th id=\"T_53796_level0_col1\" class=\"col_heading level0 col1\" >quantidade</th>\n",
       "    </tr>\n",
       "  </thead>\n",
       "  <tbody>\n",
       "    <tr>\n",
       "      <th id=\"T_53796_level0_row0\" class=\"row_heading level0 row0\" >0</th>\n",
       "      <td id=\"T_53796_row0_col0\" class=\"data row0 col0\" ><NA></td>\n",
       "      <td id=\"T_53796_row0_col1\" class=\"data row0 col1\" >1812</td>\n",
       "    </tr>\n",
       "    <tr>\n",
       "      <th id=\"T_53796_level0_row1\" class=\"row_heading level0 row1\" >1</th>\n",
       "      <td id=\"T_53796_row1_col0\" class=\"data row1 col0\" >1</td>\n",
       "      <td id=\"T_53796_row1_col1\" class=\"data row1 col1\" >1152</td>\n",
       "    </tr>\n",
       "    <tr>\n",
       "      <th id=\"T_53796_level0_row2\" class=\"row_heading level0 row2\" >2</th>\n",
       "      <td id=\"T_53796_row2_col0\" class=\"data row2 col0\" >2</td>\n",
       "      <td id=\"T_53796_row2_col1\" class=\"data row2 col1\" >1066</td>\n",
       "    </tr>\n",
       "    <tr>\n",
       "      <th id=\"T_53796_level0_row3\" class=\"row_heading level0 row3\" >3</th>\n",
       "      <td id=\"T_53796_row3_col0\" class=\"data row3 col0\" >0</td>\n",
       "      <td id=\"T_53796_row3_col1\" class=\"data row3 col1\" >636</td>\n",
       "    </tr>\n",
       "    <tr>\n",
       "      <th id=\"T_53796_level0_row4\" class=\"row_heading level0 row4\" >4</th>\n",
       "      <td id=\"T_53796_row4_col0\" class=\"data row4 col0\" >3</td>\n",
       "      <td id=\"T_53796_row4_col1\" class=\"data row4 col1\" >530</td>\n",
       "    </tr>\n",
       "    <tr>\n",
       "      <th id=\"T_53796_level0_row5\" class=\"row_heading level0 row5\" >5</th>\n",
       "      <td id=\"T_53796_row5_col0\" class=\"data row5 col0\" >4</td>\n",
       "      <td id=\"T_53796_row5_col1\" class=\"data row5 col1\" >485</td>\n",
       "    </tr>\n",
       "    <tr>\n",
       "      <th id=\"T_53796_level0_row6\" class=\"row_heading level0 row6\" >6</th>\n",
       "      <td id=\"T_53796_row6_col0\" class=\"data row6 col0\" >5</td>\n",
       "      <td id=\"T_53796_row6_col1\" class=\"data row6 col1\" >112</td>\n",
       "    </tr>\n",
       "    <tr>\n",
       "      <th id=\"T_53796_level0_row7\" class=\"row_heading level0 row7\" >7</th>\n",
       "      <td id=\"T_53796_row7_col0\" class=\"data row7 col0\" >6</td>\n",
       "      <td id=\"T_53796_row7_col1\" class=\"data row7 col1\" >109</td>\n",
       "    </tr>\n",
       "    <tr>\n",
       "      <th id=\"T_53796_level0_row8\" class=\"row_heading level0 row8\" >8</th>\n",
       "      <td id=\"T_53796_row8_col0\" class=\"data row8 col0\" >8</td>\n",
       "      <td id=\"T_53796_row8_col1\" class=\"data row8 col1\" >50</td>\n",
       "    </tr>\n",
       "    <tr>\n",
       "      <th id=\"T_53796_level0_row9\" class=\"row_heading level0 row9\" >9</th>\n",
       "      <td id=\"T_53796_row9_col0\" class=\"data row9 col0\" >10</td>\n",
       "      <td id=\"T_53796_row9_col1\" class=\"data row9 col1\" >42</td>\n",
       "    </tr>\n",
       "  </tbody>\n",
       "</table>\n"
      ],
      "text/plain": [
       "<pandas.io.formats.style.Styler at 0x16addfed0>"
      ]
     },
     "execution_count": 245,
     "metadata": {},
     "output_type": "execute_result"
    }
   ],
   "source": [
    "df_assentos_obesidade[['assentos_obesidade', 'quantidade']].head(10).style.set_caption(\"Assentos Obesidade X Quantidade de Salas\")\\\n",
    "    .set_table_styles([\n",
    "        {'selector': 'caption',\n",
    "         'props': [('color', 'black'),\n",
    "                   ('font-size', '16px'),\n",
    "                   ('text-align', 'center'),\n",
    "                   ('background-color', 'white')]},\n",
    "        {'selector': 'th, td',\n",
    "         'props': [('background-color', 'white'),\n",
    "                   ('color', 'black'),\n",
    "                   ('border', '1px solid black'),\n",
    "                   ('text-align', 'left')]}\n",
    "    ])\\\n",
    "    .set_properties(**{'background-color': 'white', 'color': 'black'})"
   ]
  },
  {
   "cell_type": "code",
   "execution_count": 246,
   "metadata": {},
   "outputs": [
    {
     "data": {
      "text/html": [
       "<div>\n",
       "<style scoped>\n",
       "    .dataframe tbody tr th:only-of-type {\n",
       "        vertical-align: middle;\n",
       "    }\n",
       "\n",
       "    .dataframe tbody tr th {\n",
       "        vertical-align: top;\n",
       "    }\n",
       "\n",
       "    .dataframe thead th {\n",
       "        text-align: right;\n",
       "    }\n",
       "</style>\n",
       "<table border=\"1\" class=\"dataframe\">\n",
       "  <thead>\n",
       "    <tr style=\"text-align: right;\">\n",
       "      <th></th>\n",
       "      <th>assentos_cadeirantes</th>\n",
       "      <th>quantidade</th>\n",
       "    </tr>\n",
       "  </thead>\n",
       "  <tbody>\n",
       "    <tr>\n",
       "      <th>0</th>\n",
       "      <td>4</td>\n",
       "      <td>1528</td>\n",
       "    </tr>\n",
       "    <tr>\n",
       "      <th>1</th>\n",
       "      <td>2</td>\n",
       "      <td>1219</td>\n",
       "    </tr>\n",
       "    <tr>\n",
       "      <th>2</th>\n",
       "      <td>&lt;NA&gt;</td>\n",
       "      <td>1206</td>\n",
       "    </tr>\n",
       "    <tr>\n",
       "      <th>3</th>\n",
       "      <td>3</td>\n",
       "      <td>593</td>\n",
       "    </tr>\n",
       "    <tr>\n",
       "      <th>4</th>\n",
       "      <td>6</td>\n",
       "      <td>509</td>\n",
       "    </tr>\n",
       "    <tr>\n",
       "      <th>5</th>\n",
       "      <td>5</td>\n",
       "      <td>387</td>\n",
       "    </tr>\n",
       "    <tr>\n",
       "      <th>6</th>\n",
       "      <td>1</td>\n",
       "      <td>299</td>\n",
       "    </tr>\n",
       "    <tr>\n",
       "      <th>7</th>\n",
       "      <td>8</td>\n",
       "      <td>122</td>\n",
       "    </tr>\n",
       "    <tr>\n",
       "      <th>8</th>\n",
       "      <td>7</td>\n",
       "      <td>120</td>\n",
       "    </tr>\n",
       "    <tr>\n",
       "      <th>9</th>\n",
       "      <td>0</td>\n",
       "      <td>106</td>\n",
       "    </tr>\n",
       "    <tr>\n",
       "      <th>10</th>\n",
       "      <td>10</td>\n",
       "      <td>31</td>\n",
       "    </tr>\n",
       "    <tr>\n",
       "      <th>11</th>\n",
       "      <td>9</td>\n",
       "      <td>30</td>\n",
       "    </tr>\n",
       "    <tr>\n",
       "      <th>12</th>\n",
       "      <td>20</td>\n",
       "      <td>7</td>\n",
       "    </tr>\n",
       "    <tr>\n",
       "      <th>13</th>\n",
       "      <td>12</td>\n",
       "      <td>6</td>\n",
       "    </tr>\n",
       "    <tr>\n",
       "      <th>14</th>\n",
       "      <td>13</td>\n",
       "      <td>5</td>\n",
       "    </tr>\n",
       "    <tr>\n",
       "      <th>15</th>\n",
       "      <td>11</td>\n",
       "      <td>5</td>\n",
       "    </tr>\n",
       "    <tr>\n",
       "      <th>16</th>\n",
       "      <td>30</td>\n",
       "      <td>3</td>\n",
       "    </tr>\n",
       "    <tr>\n",
       "      <th>17</th>\n",
       "      <td>15</td>\n",
       "      <td>2</td>\n",
       "    </tr>\n",
       "    <tr>\n",
       "      <th>18</th>\n",
       "      <td>14</td>\n",
       "      <td>2</td>\n",
       "    </tr>\n",
       "    <tr>\n",
       "      <th>19</th>\n",
       "      <td>25</td>\n",
       "      <td>2</td>\n",
       "    </tr>\n",
       "    <tr>\n",
       "      <th>20</th>\n",
       "      <td>87</td>\n",
       "      <td>1</td>\n",
       "    </tr>\n",
       "    <tr>\n",
       "      <th>21</th>\n",
       "      <td>17</td>\n",
       "      <td>1</td>\n",
       "    </tr>\n",
       "    <tr>\n",
       "      <th>22</th>\n",
       "      <td>18</td>\n",
       "      <td>1</td>\n",
       "    </tr>\n",
       "    <tr>\n",
       "      <th>23</th>\n",
       "      <td>28</td>\n",
       "      <td>1</td>\n",
       "    </tr>\n",
       "    <tr>\n",
       "      <th>24</th>\n",
       "      <td>39</td>\n",
       "      <td>1</td>\n",
       "    </tr>\n",
       "    <tr>\n",
       "      <th>25</th>\n",
       "      <td>40</td>\n",
       "      <td>1</td>\n",
       "    </tr>\n",
       "  </tbody>\n",
       "</table>\n",
       "</div>"
      ],
      "text/plain": [
       "    assentos_cadeirantes  quantidade\n",
       "0                      4        1528\n",
       "1                      2        1219\n",
       "2                   <NA>        1206\n",
       "3                      3         593\n",
       "4                      6         509\n",
       "5                      5         387\n",
       "6                      1         299\n",
       "7                      8         122\n",
       "8                      7         120\n",
       "9                      0         106\n",
       "10                    10          31\n",
       "11                     9          30\n",
       "12                    20           7\n",
       "13                    12           6\n",
       "14                    13           5\n",
       "15                    11           5\n",
       "16                    30           3\n",
       "17                    15           2\n",
       "18                    14           2\n",
       "19                    25           2\n",
       "20                    87           1\n",
       "21                    17           1\n",
       "22                    18           1\n",
       "23                    28           1\n",
       "24                    39           1\n",
       "25                    40           1"
      ]
     },
     "execution_count": 246,
     "metadata": {},
     "output_type": "execute_result"
    }
   ],
   "source": [
    "# Ler o CSV\n",
    "df_assentos_cadeirante = pd.read_csv(folder_path + 'assentos_cadeirante.csv')\n",
    "df_assentos_cadeirante=df_assentos_cadeirante.sort_values(by='quantidade', ascending=False)\n",
    "df_assentos_cadeirante = df_assentos_cadeirante.reset_index(drop=True)\n",
    "df_assentos_cadeirante['assentos_cadeirantes'] =df_assentos_cadeirante['assentos_cadeirantes'].astype('Int64')\n",
    "\n",
    "# E seleciona as colunas:\n",
    "df_assentos_cadeirante[['assentos_cadeirantes', 'quantidade']]"
   ]
  },
  {
   "cell_type": "code",
   "execution_count": 248,
   "metadata": {},
   "outputs": [
    {
     "data": {
      "text/html": [
       "<style type=\"text/css\">\n",
       "#T_1e616 caption {\n",
       "  color: black;\n",
       "  font-size: 16px;\n",
       "  text-align: center;\n",
       "  background-color: white;\n",
       "}\n",
       "#T_1e616 th {\n",
       "  background-color: white;\n",
       "  color: black;\n",
       "  border: 1px solid black;\n",
       "  text-align: left;\n",
       "}\n",
       "#T_1e616  td {\n",
       "  background-color: white;\n",
       "  color: black;\n",
       "  border: 1px solid black;\n",
       "  text-align: left;\n",
       "}\n",
       "#T_1e616_row0_col0, #T_1e616_row0_col1, #T_1e616_row1_col0, #T_1e616_row1_col1, #T_1e616_row2_col0, #T_1e616_row2_col1, #T_1e616_row3_col0, #T_1e616_row3_col1, #T_1e616_row4_col0, #T_1e616_row4_col1, #T_1e616_row5_col0, #T_1e616_row5_col1, #T_1e616_row6_col0, #T_1e616_row6_col1, #T_1e616_row7_col0, #T_1e616_row7_col1, #T_1e616_row8_col0, #T_1e616_row8_col1, #T_1e616_row9_col0, #T_1e616_row9_col1 {\n",
       "  background-color: white;\n",
       "  color: black;\n",
       "}\n",
       "</style>\n",
       "<table id=\"T_1e616\">\n",
       "  <caption>Assentos Cadeirantes X Quantidade de salas</caption>\n",
       "  <thead>\n",
       "    <tr>\n",
       "      <th class=\"blank level0\" >&nbsp;</th>\n",
       "      <th id=\"T_1e616_level0_col0\" class=\"col_heading level0 col0\" >assentos_cadeirantes</th>\n",
       "      <th id=\"T_1e616_level0_col1\" class=\"col_heading level0 col1\" >quantidade</th>\n",
       "    </tr>\n",
       "  </thead>\n",
       "  <tbody>\n",
       "    <tr>\n",
       "      <th id=\"T_1e616_level0_row0\" class=\"row_heading level0 row0\" >0</th>\n",
       "      <td id=\"T_1e616_row0_col0\" class=\"data row0 col0\" >4</td>\n",
       "      <td id=\"T_1e616_row0_col1\" class=\"data row0 col1\" >1528</td>\n",
       "    </tr>\n",
       "    <tr>\n",
       "      <th id=\"T_1e616_level0_row1\" class=\"row_heading level0 row1\" >1</th>\n",
       "      <td id=\"T_1e616_row1_col0\" class=\"data row1 col0\" >2</td>\n",
       "      <td id=\"T_1e616_row1_col1\" class=\"data row1 col1\" >1219</td>\n",
       "    </tr>\n",
       "    <tr>\n",
       "      <th id=\"T_1e616_level0_row2\" class=\"row_heading level0 row2\" >2</th>\n",
       "      <td id=\"T_1e616_row2_col0\" class=\"data row2 col0\" ><NA></td>\n",
       "      <td id=\"T_1e616_row2_col1\" class=\"data row2 col1\" >1206</td>\n",
       "    </tr>\n",
       "    <tr>\n",
       "      <th id=\"T_1e616_level0_row3\" class=\"row_heading level0 row3\" >3</th>\n",
       "      <td id=\"T_1e616_row3_col0\" class=\"data row3 col0\" >3</td>\n",
       "      <td id=\"T_1e616_row3_col1\" class=\"data row3 col1\" >593</td>\n",
       "    </tr>\n",
       "    <tr>\n",
       "      <th id=\"T_1e616_level0_row4\" class=\"row_heading level0 row4\" >4</th>\n",
       "      <td id=\"T_1e616_row4_col0\" class=\"data row4 col0\" >6</td>\n",
       "      <td id=\"T_1e616_row4_col1\" class=\"data row4 col1\" >509</td>\n",
       "    </tr>\n",
       "    <tr>\n",
       "      <th id=\"T_1e616_level0_row5\" class=\"row_heading level0 row5\" >5</th>\n",
       "      <td id=\"T_1e616_row5_col0\" class=\"data row5 col0\" >5</td>\n",
       "      <td id=\"T_1e616_row5_col1\" class=\"data row5 col1\" >387</td>\n",
       "    </tr>\n",
       "    <tr>\n",
       "      <th id=\"T_1e616_level0_row6\" class=\"row_heading level0 row6\" >6</th>\n",
       "      <td id=\"T_1e616_row6_col0\" class=\"data row6 col0\" >1</td>\n",
       "      <td id=\"T_1e616_row6_col1\" class=\"data row6 col1\" >299</td>\n",
       "    </tr>\n",
       "    <tr>\n",
       "      <th id=\"T_1e616_level0_row7\" class=\"row_heading level0 row7\" >7</th>\n",
       "      <td id=\"T_1e616_row7_col0\" class=\"data row7 col0\" >8</td>\n",
       "      <td id=\"T_1e616_row7_col1\" class=\"data row7 col1\" >122</td>\n",
       "    </tr>\n",
       "    <tr>\n",
       "      <th id=\"T_1e616_level0_row8\" class=\"row_heading level0 row8\" >8</th>\n",
       "      <td id=\"T_1e616_row8_col0\" class=\"data row8 col0\" >7</td>\n",
       "      <td id=\"T_1e616_row8_col1\" class=\"data row8 col1\" >120</td>\n",
       "    </tr>\n",
       "    <tr>\n",
       "      <th id=\"T_1e616_level0_row9\" class=\"row_heading level0 row9\" >9</th>\n",
       "      <td id=\"T_1e616_row9_col0\" class=\"data row9 col0\" >0</td>\n",
       "      <td id=\"T_1e616_row9_col1\" class=\"data row9 col1\" >106</td>\n",
       "    </tr>\n",
       "  </tbody>\n",
       "</table>\n"
      ],
      "text/plain": [
       "<pandas.io.formats.style.Styler at 0x16acd4050>"
      ]
     },
     "execution_count": 248,
     "metadata": {},
     "output_type": "execute_result"
    }
   ],
   "source": [
    "df_assentos_cadeirante[['assentos_cadeirantes', 'quantidade']].head(10).style.set_caption(\"Assentos Cadeirantes X Quantidade de salas\")\\\n",
    "    .set_table_styles([\n",
    "        {'selector': 'caption',\n",
    "         'props': [('color', 'black'),\n",
    "                   ('font-size', '16px'),\n",
    "                   ('text-align', 'center'),\n",
    "                   ('background-color', 'white')]},\n",
    "        {'selector': 'th, td',\n",
    "         'props': [('background-color', 'white'),\n",
    "                   ('color', 'black'),\n",
    "                   ('border', '1px solid black'),\n",
    "                   ('text-align', 'left')]}\n",
    "    ])\\\n",
    "    .set_properties(**{'background-color': 'white', 'color': 'black'})"
   ]
  },
  {
   "cell_type": "code",
   "execution_count": 249,
   "metadata": {},
   "outputs": [
    {
     "data": {
      "text/html": [
       "<div>\n",
       "<style scoped>\n",
       "    .dataframe tbody tr th:only-of-type {\n",
       "        vertical-align: middle;\n",
       "    }\n",
       "\n",
       "    .dataframe tbody tr th {\n",
       "        vertical-align: top;\n",
       "    }\n",
       "\n",
       "    .dataframe thead th {\n",
       "        text-align: right;\n",
       "    }\n",
       "</style>\n",
       "<table border=\"1\" class=\"dataframe\">\n",
       "  <thead>\n",
       "    <tr style=\"text-align: right;\">\n",
       "      <th></th>\n",
       "      <th>assentos_mobilidade_reduzida</th>\n",
       "      <th>quantidade</th>\n",
       "    </tr>\n",
       "  </thead>\n",
       "  <tbody>\n",
       "    <tr>\n",
       "      <th>0</th>\n",
       "      <td>&lt;NA&gt;</td>\n",
       "      <td>1943</td>\n",
       "    </tr>\n",
       "    <tr>\n",
       "      <th>1</th>\n",
       "      <td>0</td>\n",
       "      <td>1227</td>\n",
       "    </tr>\n",
       "    <tr>\n",
       "      <th>2</th>\n",
       "      <td>1</td>\n",
       "      <td>1082</td>\n",
       "    </tr>\n",
       "    <tr>\n",
       "      <th>3</th>\n",
       "      <td>2</td>\n",
       "      <td>715</td>\n",
       "    </tr>\n",
       "    <tr>\n",
       "      <th>4</th>\n",
       "      <td>3</td>\n",
       "      <td>498</td>\n",
       "    </tr>\n",
       "    <tr>\n",
       "      <th>5</th>\n",
       "      <td>4</td>\n",
       "      <td>357</td>\n",
       "    </tr>\n",
       "    <tr>\n",
       "      <th>6</th>\n",
       "      <td>5</td>\n",
       "      <td>86</td>\n",
       "    </tr>\n",
       "    <tr>\n",
       "      <th>7</th>\n",
       "      <td>6</td>\n",
       "      <td>79</td>\n",
       "    </tr>\n",
       "    <tr>\n",
       "      <th>8</th>\n",
       "      <td>8</td>\n",
       "      <td>47</td>\n",
       "    </tr>\n",
       "    <tr>\n",
       "      <th>9</th>\n",
       "      <td>7</td>\n",
       "      <td>33</td>\n",
       "    </tr>\n",
       "    <tr>\n",
       "      <th>10</th>\n",
       "      <td>10</td>\n",
       "      <td>27</td>\n",
       "    </tr>\n",
       "    <tr>\n",
       "      <th>11</th>\n",
       "      <td>9</td>\n",
       "      <td>17</td>\n",
       "    </tr>\n",
       "    <tr>\n",
       "      <th>12</th>\n",
       "      <td>15</td>\n",
       "      <td>14</td>\n",
       "    </tr>\n",
       "    <tr>\n",
       "      <th>13</th>\n",
       "      <td>12</td>\n",
       "      <td>9</td>\n",
       "    </tr>\n",
       "    <tr>\n",
       "      <th>14</th>\n",
       "      <td>20</td>\n",
       "      <td>8</td>\n",
       "    </tr>\n",
       "    <tr>\n",
       "      <th>15</th>\n",
       "      <td>11</td>\n",
       "      <td>7</td>\n",
       "    </tr>\n",
       "    <tr>\n",
       "      <th>16</th>\n",
       "      <td>14</td>\n",
       "      <td>7</td>\n",
       "    </tr>\n",
       "    <tr>\n",
       "      <th>17</th>\n",
       "      <td>25</td>\n",
       "      <td>4</td>\n",
       "    </tr>\n",
       "    <tr>\n",
       "      <th>18</th>\n",
       "      <td>16</td>\n",
       "      <td>3</td>\n",
       "    </tr>\n",
       "    <tr>\n",
       "      <th>19</th>\n",
       "      <td>30</td>\n",
       "      <td>3</td>\n",
       "    </tr>\n",
       "    <tr>\n",
       "      <th>20</th>\n",
       "      <td>18</td>\n",
       "      <td>3</td>\n",
       "    </tr>\n",
       "    <tr>\n",
       "      <th>21</th>\n",
       "      <td>13</td>\n",
       "      <td>2</td>\n",
       "    </tr>\n",
       "    <tr>\n",
       "      <th>22</th>\n",
       "      <td>21</td>\n",
       "      <td>2</td>\n",
       "    </tr>\n",
       "    <tr>\n",
       "      <th>23</th>\n",
       "      <td>24</td>\n",
       "      <td>2</td>\n",
       "    </tr>\n",
       "    <tr>\n",
       "      <th>24</th>\n",
       "      <td>35</td>\n",
       "      <td>2</td>\n",
       "    </tr>\n",
       "    <tr>\n",
       "      <th>25</th>\n",
       "      <td>72</td>\n",
       "      <td>1</td>\n",
       "    </tr>\n",
       "    <tr>\n",
       "      <th>26</th>\n",
       "      <td>40</td>\n",
       "      <td>1</td>\n",
       "    </tr>\n",
       "    <tr>\n",
       "      <th>27</th>\n",
       "      <td>70</td>\n",
       "      <td>1</td>\n",
       "    </tr>\n",
       "    <tr>\n",
       "      <th>28</th>\n",
       "      <td>44</td>\n",
       "      <td>1</td>\n",
       "    </tr>\n",
       "    <tr>\n",
       "      <th>29</th>\n",
       "      <td>41</td>\n",
       "      <td>1</td>\n",
       "    </tr>\n",
       "    <tr>\n",
       "      <th>30</th>\n",
       "      <td>32</td>\n",
       "      <td>1</td>\n",
       "    </tr>\n",
       "    <tr>\n",
       "      <th>31</th>\n",
       "      <td>39</td>\n",
       "      <td>1</td>\n",
       "    </tr>\n",
       "    <tr>\n",
       "      <th>32</th>\n",
       "      <td>38</td>\n",
       "      <td>1</td>\n",
       "    </tr>\n",
       "    <tr>\n",
       "      <th>33</th>\n",
       "      <td>31</td>\n",
       "      <td>1</td>\n",
       "    </tr>\n",
       "    <tr>\n",
       "      <th>34</th>\n",
       "      <td>28</td>\n",
       "      <td>1</td>\n",
       "    </tr>\n",
       "    <tr>\n",
       "      <th>35</th>\n",
       "      <td>-1</td>\n",
       "      <td>1</td>\n",
       "    </tr>\n",
       "  </tbody>\n",
       "</table>\n",
       "</div>"
      ],
      "text/plain": [
       "    assentos_mobilidade_reduzida  quantidade\n",
       "0                           <NA>        1943\n",
       "1                              0        1227\n",
       "2                              1        1082\n",
       "3                              2         715\n",
       "4                              3         498\n",
       "5                              4         357\n",
       "6                              5          86\n",
       "7                              6          79\n",
       "8                              8          47\n",
       "9                              7          33\n",
       "10                            10          27\n",
       "11                             9          17\n",
       "12                            15          14\n",
       "13                            12           9\n",
       "14                            20           8\n",
       "15                            11           7\n",
       "16                            14           7\n",
       "17                            25           4\n",
       "18                            16           3\n",
       "19                            30           3\n",
       "20                            18           3\n",
       "21                            13           2\n",
       "22                            21           2\n",
       "23                            24           2\n",
       "24                            35           2\n",
       "25                            72           1\n",
       "26                            40           1\n",
       "27                            70           1\n",
       "28                            44           1\n",
       "29                            41           1\n",
       "30                            32           1\n",
       "31                            39           1\n",
       "32                            38           1\n",
       "33                            31           1\n",
       "34                            28           1\n",
       "35                            -1           1"
      ]
     },
     "execution_count": 249,
     "metadata": {},
     "output_type": "execute_result"
    }
   ],
   "source": [
    "# Ler o CSV\n",
    "df_assentos_mobilidade_reduzida = pd.read_csv(folder_path + 'assentos_mobilidade_reduzida.csv')\n",
    "df_assentos_mobilidade_reduzida=df_assentos_mobilidade_reduzida.sort_values(by='quantidade', ascending=False)\n",
    "df_assentos_mobilidade_reduzida = df_assentos_mobilidade_reduzida.reset_index(drop=True)\n",
    "df_assentos_mobilidade_reduzida['assentos_mobilidade_reduzida'] = df_assentos_mobilidade_reduzida['assentos_mobilidade_reduzida'].astype('Int64')\n",
    "\n",
    "# E seleciona as colunas:\n",
    "df_assentos_mobilidade_reduzida[['assentos_mobilidade_reduzida', 'quantidade']]"
   ]
  },
  {
   "cell_type": "code",
   "execution_count": 250,
   "metadata": {},
   "outputs": [
    {
     "data": {
      "text/html": [
       "<style type=\"text/css\">\n",
       "#T_10b8b caption {\n",
       "  color: black;\n",
       "  font-size: 16px;\n",
       "  text-align: center;\n",
       "  background-color: white;\n",
       "}\n",
       "#T_10b8b th {\n",
       "  background-color: white;\n",
       "  color: black;\n",
       "  border: 1px solid black;\n",
       "  text-align: left;\n",
       "}\n",
       "#T_10b8b  td {\n",
       "  background-color: white;\n",
       "  color: black;\n",
       "  border: 1px solid black;\n",
       "  text-align: left;\n",
       "}\n",
       "#T_10b8b_row0_col0, #T_10b8b_row0_col1, #T_10b8b_row1_col0, #T_10b8b_row1_col1, #T_10b8b_row2_col0, #T_10b8b_row2_col1, #T_10b8b_row3_col0, #T_10b8b_row3_col1, #T_10b8b_row4_col0, #T_10b8b_row4_col1, #T_10b8b_row5_col0, #T_10b8b_row5_col1, #T_10b8b_row6_col0, #T_10b8b_row6_col1, #T_10b8b_row7_col0, #T_10b8b_row7_col1, #T_10b8b_row8_col0, #T_10b8b_row8_col1, #T_10b8b_row9_col0, #T_10b8b_row9_col1 {\n",
       "  background-color: white;\n",
       "  color: black;\n",
       "}\n",
       "</style>\n",
       "<table id=\"T_10b8b\">\n",
       "  <caption>Assentos Mobilidade Reduzida X Quantidade de salas</caption>\n",
       "  <thead>\n",
       "    <tr>\n",
       "      <th class=\"blank level0\" >&nbsp;</th>\n",
       "      <th id=\"T_10b8b_level0_col0\" class=\"col_heading level0 col0\" >assentos_mobilidade_reduzida</th>\n",
       "      <th id=\"T_10b8b_level0_col1\" class=\"col_heading level0 col1\" >quantidade</th>\n",
       "    </tr>\n",
       "  </thead>\n",
       "  <tbody>\n",
       "    <tr>\n",
       "      <th id=\"T_10b8b_level0_row0\" class=\"row_heading level0 row0\" >0</th>\n",
       "      <td id=\"T_10b8b_row0_col0\" class=\"data row0 col0\" ><NA></td>\n",
       "      <td id=\"T_10b8b_row0_col1\" class=\"data row0 col1\" >1943</td>\n",
       "    </tr>\n",
       "    <tr>\n",
       "      <th id=\"T_10b8b_level0_row1\" class=\"row_heading level0 row1\" >1</th>\n",
       "      <td id=\"T_10b8b_row1_col0\" class=\"data row1 col0\" >0</td>\n",
       "      <td id=\"T_10b8b_row1_col1\" class=\"data row1 col1\" >1227</td>\n",
       "    </tr>\n",
       "    <tr>\n",
       "      <th id=\"T_10b8b_level0_row2\" class=\"row_heading level0 row2\" >2</th>\n",
       "      <td id=\"T_10b8b_row2_col0\" class=\"data row2 col0\" >1</td>\n",
       "      <td id=\"T_10b8b_row2_col1\" class=\"data row2 col1\" >1082</td>\n",
       "    </tr>\n",
       "    <tr>\n",
       "      <th id=\"T_10b8b_level0_row3\" class=\"row_heading level0 row3\" >3</th>\n",
       "      <td id=\"T_10b8b_row3_col0\" class=\"data row3 col0\" >2</td>\n",
       "      <td id=\"T_10b8b_row3_col1\" class=\"data row3 col1\" >715</td>\n",
       "    </tr>\n",
       "    <tr>\n",
       "      <th id=\"T_10b8b_level0_row4\" class=\"row_heading level0 row4\" >4</th>\n",
       "      <td id=\"T_10b8b_row4_col0\" class=\"data row4 col0\" >3</td>\n",
       "      <td id=\"T_10b8b_row4_col1\" class=\"data row4 col1\" >498</td>\n",
       "    </tr>\n",
       "    <tr>\n",
       "      <th id=\"T_10b8b_level0_row5\" class=\"row_heading level0 row5\" >5</th>\n",
       "      <td id=\"T_10b8b_row5_col0\" class=\"data row5 col0\" >4</td>\n",
       "      <td id=\"T_10b8b_row5_col1\" class=\"data row5 col1\" >357</td>\n",
       "    </tr>\n",
       "    <tr>\n",
       "      <th id=\"T_10b8b_level0_row6\" class=\"row_heading level0 row6\" >6</th>\n",
       "      <td id=\"T_10b8b_row6_col0\" class=\"data row6 col0\" >5</td>\n",
       "      <td id=\"T_10b8b_row6_col1\" class=\"data row6 col1\" >86</td>\n",
       "    </tr>\n",
       "    <tr>\n",
       "      <th id=\"T_10b8b_level0_row7\" class=\"row_heading level0 row7\" >7</th>\n",
       "      <td id=\"T_10b8b_row7_col0\" class=\"data row7 col0\" >6</td>\n",
       "      <td id=\"T_10b8b_row7_col1\" class=\"data row7 col1\" >79</td>\n",
       "    </tr>\n",
       "    <tr>\n",
       "      <th id=\"T_10b8b_level0_row8\" class=\"row_heading level0 row8\" >8</th>\n",
       "      <td id=\"T_10b8b_row8_col0\" class=\"data row8 col0\" >8</td>\n",
       "      <td id=\"T_10b8b_row8_col1\" class=\"data row8 col1\" >47</td>\n",
       "    </tr>\n",
       "    <tr>\n",
       "      <th id=\"T_10b8b_level0_row9\" class=\"row_heading level0 row9\" >9</th>\n",
       "      <td id=\"T_10b8b_row9_col0\" class=\"data row9 col0\" >7</td>\n",
       "      <td id=\"T_10b8b_row9_col1\" class=\"data row9 col1\" >33</td>\n",
       "    </tr>\n",
       "  </tbody>\n",
       "</table>\n"
      ],
      "text/plain": [
       "<pandas.io.formats.style.Styler at 0x16ae38e50>"
      ]
     },
     "execution_count": 250,
     "metadata": {},
     "output_type": "execute_result"
    }
   ],
   "source": [
    "df_assentos_mobilidade_reduzida[['assentos_mobilidade_reduzida', 'quantidade']].head(10).style.set_caption(\"Assentos Mobilidade Reduzida X Quantidade de salas\")\\\n",
    "    .set_table_styles([\n",
    "        {'selector': 'caption',\n",
    "         'props': [('color', 'black'),\n",
    "                   ('font-size', '16px'),\n",
    "                   ('text-align', 'center'),\n",
    "                   ('background-color', 'white')]},\n",
    "        {'selector': 'th, td',\n",
    "         'props': [('background-color', 'white'),\n",
    "                   ('color', 'black'),\n",
    "                   ('border', '1px solid black'),\n",
    "                   ('text-align', 'left')]}\n",
    "    ])\\\n",
    "    .set_properties(**{'background-color': 'white', 'color': 'black'})"
   ]
  },
  {
   "cell_type": "code",
   "execution_count": 253,
   "metadata": {},
   "outputs": [
    {
     "data": {
      "text/plain": [
       "<Axes: title={'center': 'Complexos Itinerantes'}, xlabel='complexo_itinerante'>"
      ]
     },
     "execution_count": 253,
     "metadata": {},
     "output_type": "execute_result"
    },
    {
     "data": {
      "image/png": "[encoded data removed]",
      "text/plain": [
       "<Figure size 640x480 with 1 Axes>"
      ]
     },
     "metadata": {},
     "output_type": "display_data"
    }
   ],
   "source": [
    "df_complexo_itinerante= pd.read_csv(folder_path + 'complexos_itinerantes_comparacao.csv')\n",
    "df_complexo_itinerante.plot(kind='bar',x='complexo_itinerante',y='count', title=\"Complexos Itinerantes\")"
   ]
  }
 ],
 "metadata": {
  "kernelspec": {
   "display_name": "Python 3",
   "language": "python",
   "name": "python3"
  },
  "language_info": {
   "codemirror_mode": {
    "name": "ipython",
    "version": 3
   },
   "file_extension": ".py",
   "mimetype": "text/x-python",
   "name": "python",
   "nbconvert_exporter": "python",
   "pygments_lexer": "ipython3",
   "version": "3.11.0"
  }
 },
 "nbformat": 4,
 "nbformat_minor": 2
}
